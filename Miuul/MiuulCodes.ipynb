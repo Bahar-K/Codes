{
 "cells": [
  {
   "cell_type": "code",
   "execution_count": 11,
   "id": "c0aee95d-97bb-4e73-8687-d3c14f2ed479",
   "metadata": {},
   "outputs": [
    {
     "name": "stdout",
     "output_type": "stream",
     "text": [
      "Merhaba, ben Bahar Bosh !\n",
      "<class 'int'>\n",
      "<class 'float'>\n",
      "<class 'complex'>\n",
      "<class 'str'>\n",
      "<class 'bool'>\n",
      "<class 'bool'>\n",
      "<class 'list'>\n",
      "<class 'dict'>\n",
      "<class 'tuple'>\n",
      "<class 'set'>\n"
     ]
    },
    {
     "data": {
      "text/plain": [
       "['THE',\n",
       " 'GOAL',\n",
       " 'IS',\n",
       " 'TO',\n",
       " 'TURN',\n",
       " 'DATA',\n",
       " 'INTO',\n",
       " 'INFORMATION',\n",
       " 'AND',\n",
       " 'INFORMATION',\n",
       " 'INTO',\n",
       " 'INSIGHT']"
      ]
     },
     "execution_count": 11,
     "metadata": {},
     "output_type": "execute_result"
    }
   ],
   "source": [
    "from re import T\n",
    "\n",
    "from matplotlib.pyplot import text\n",
    "\n",
    "#Gorev 1 +++++\n",
    "print(\"Merhaba, ben Bahar Bosh !\")\n",
    "\n",
    "V = [23, 3.2, 7j +21, \"Hey World\", False, 23<22 ,[1,2,3,4] ,{\"Name\": \"Bosh\",\"Age\": 23}, (\"Machine Learning\",\"Data Science\"),{\"Python\",\"Machine Learning\" \"Data Science\"},]\n",
    "\n",
    "for i in V: \n",
    "    print(type(i))\n",
    "    \n",
    "#Gorev 2 ------\n",
    "text = \"The goal is to turn data into information, and information into insight.\"\n",
    "text_new = text.replace(\",\",\" \").replace(\".\",\" \").upper().split()\n",
    "text_new\n",
    "\n"
   ]
  },
  {
   "cell_type": "code",
   "execution_count": 11,
   "id": "12f959e5-7e55-4c75-8949-b986ce289534",
   "metadata": {},
   "outputs": [
    {
     "name": "stdout",
     "output_type": "stream",
     "text": [
      "11\n",
      "D\n",
      "E\n",
      "['D', 'A', 'T', 'A']\n",
      "['D', 'A', 'T', 'A', 'S', 'C', 'I', 'E', 'C', 'E']\n",
      "['D', 'A', 'T', 'A', 'S', 'C', 'I', 'E', 'C', 'E', 'Bosh']\n",
      "['D', 'A', 'T', 'A', 'S', 'C', 'I', 'E', 'N', 'C', 'E', 'Bosh']\n"
     ]
    }
   ],
   "source": [
    "#Gorev 3  \n",
    "lst = [\"D\",\"A\",\"T\",\"A\",\"S\",\"C\",\"I\",\"E\",\"N\",\"C\",\"E\"]\n",
    "list = len(lst)\n",
    "print(list)\n",
    "print(lst[0])\n",
    "print(lst[10])\n",
    "print(lst[:4])\n",
    "#8. elemanı sildiriyor\n",
    "lst.pop(8)\n",
    "print(lst)\n",
    "lst.append(\"Bosh\")\n",
    "print(lst)\n",
    "lst.insert(8,\"N\")\n",
    "print(lst)"
   ]
  },
  {
   "cell_type": "code",
   "execution_count": 12,
   "id": "62bb8025-c43e-424a-ac65-b1e25e2eedea",
   "metadata": {},
   "outputs": [
    {
     "name": "stdout",
     "output_type": "stream",
     "text": [
      "dict_keys(['Christian', 'Daisy', 'Antonio', 'Dante'])\n",
      "dict_values([['America', 18], ['England', 12], ['Spain', 22], ['Italy', 25]])\n"
     ]
    },
    {
     "data": {
      "text/plain": [
       "{'Christian': ['America', 18],\n",
       " 'Daisy': ['England', 13],\n",
       " 'Dante': ['Italy', 25],\n",
       " 'Ahmet': ['Turkey', 23]}"
      ]
     },
     "execution_count": 12,
     "metadata": {},
     "output_type": "execute_result"
    }
   ],
   "source": [
    "#Gorev 4\n",
    "dict = {\n",
    "    'Christian': [\"America\",18],\n",
    "    'Daisy': [\"England\",12],\n",
    "    'Antonio': [\"Spain\",22],\n",
    "    'Dante': [\"Italy\",25]}\n",
    "\n",
    "print(dict.keys())\n",
    "print(dict.values())\n",
    "#alternatif\n",
    "#dict[\"Daisy\"][1] = 13\n",
    "dict.update({\"Daisy\": [\"England\",13]})\n",
    "dict[\"Ahmet\"]= [\"Turkey\",23]\n",
    "dict.pop(\"Antonio\")\n",
    "dict"
   ]
  },
  {
   "cell_type": "code",
   "execution_count": 14,
   "id": "2c314604-a64c-4203-a467-854a947516fc",
   "metadata": {},
   "outputs": [
    {
     "data": {
      "text/plain": [
       "[[2, 18, 22], [23, 93]]"
      ]
     },
     "execution_count": 14,
     "metadata": {},
     "output_type": "execute_result"
    }
   ],
   "source": [
    "#Görev 5 \n",
    "l = [2,23,18,93,22]\n",
    "def oddEven(liste):\n",
    "    output = [[],[]]\n",
    "    for i in liste:\n",
    "        if i % 2 == 0:\n",
    "            output[0].append(i)\n",
    "        else:\n",
    "            output[1].append(i)\n",
    "    return output\n",
    "oddEven(l)\n",
    "    \n",
    "\n"
   ]
  },
  {
   "cell_type": "code",
   "execution_count": 28,
   "id": "253fd59f-5872-4823-8bca-3aec61f0bf97",
   "metadata": {},
   "outputs": [
    {
     "name": "stdout",
     "output_type": "stream",
     "text": [
      "Index(['total', 'speeding', 'alcohol', 'not_distracted', 'no_previous',\n",
      "       'ins_premium', 'ins_losses', 'abbrev'],\n",
      "      dtype='object')\n"
     ]
    },
    {
     "data": {
      "text/plain": [
       "['NUM_TOTAL',\n",
       " 'NUM_SPEEDING',\n",
       " 'NUM_ALCOHOL',\n",
       " 'NUM_NOT_DISTRACTED',\n",
       " 'NUM_NO_PREVIOUS',\n",
       " 'NUM_INS_PREMIUM',\n",
       " 'NUM_INS_LOSSES',\n",
       " 'ABBREV']"
      ]
     },
     "execution_count": 28,
     "metadata": {},
     "output_type": "execute_result"
    }
   ],
   "source": [
    "#Görev 6\n",
    "import seaborn as sns\n",
    "df = sns.load_dataset(\"car_crashes\")\n",
    "df.columns\n",
    "df_columns = df.columns\n",
    "print(df_columns)\n",
    "\n",
    "new = [\"NUM_\"+ i.upper() if df[i].dtype != \"O\" else i.upper() for i in df.columns]\n",
    "new\n"
   ]
  },
  {
   "cell_type": "code",
   "execution_count": 34,
   "id": "039d565f-4617-479b-93e2-5e759cc908b5",
   "metadata": {},
   "outputs": [
    {
     "data": {
      "text/plain": [
       "['TOTAL_FLAG',\n",
       " 'SPEEDING_FLAG',\n",
       " 'ALCOHOL_FLAG',\n",
       " 'NOT_DISTRACTED',\n",
       " 'NO_PREVIOUS',\n",
       " 'INS_PREMIUM_FLAG',\n",
       " 'INS_LOSSES_FLAG',\n",
       " 'ABBREV_FLAG']"
      ]
     },
     "execution_count": 34,
     "metadata": {},
     "output_type": "execute_result"
    }
   ],
   "source": [
    "#Görev 7\n",
    "import seaborn as sns\n",
    "df = sns.load_dataset(\"car_crashes\")\n",
    "df.columns\n",
    "\n",
    "new = [i.upper() +\"_FLAG\" if \"no\" not in i else i.upper() for i in df.columns]\n",
    "new\n"
   ]
  },
  {
   "cell_type": "code",
   "execution_count": 40,
   "id": "6089c578-f3b2-4c53-8147-f407219a2f44",
   "metadata": {},
   "outputs": [
    {
     "data": {
      "text/html": [
       "<div>\n",
       "<style scoped>\n",
       "    .dataframe tbody tr th:only-of-type {\n",
       "        vertical-align: middle;\n",
       "    }\n",
       "\n",
       "    .dataframe tbody tr th {\n",
       "        vertical-align: top;\n",
       "    }\n",
       "\n",
       "    .dataframe thead th {\n",
       "        text-align: right;\n",
       "    }\n",
       "</style>\n",
       "<table border=\"1\" class=\"dataframe\">\n",
       "  <thead>\n",
       "    <tr style=\"text-align: right;\">\n",
       "      <th></th>\n",
       "      <th>total</th>\n",
       "      <th>speeding</th>\n",
       "      <th>alcohol</th>\n",
       "      <th>not_distracted</th>\n",
       "      <th>ins_premium</th>\n",
       "      <th>ins_losses</th>\n",
       "    </tr>\n",
       "  </thead>\n",
       "  <tbody>\n",
       "    <tr>\n",
       "      <th>0</th>\n",
       "      <td>18.8</td>\n",
       "      <td>7.332</td>\n",
       "      <td>5.640</td>\n",
       "      <td>18.048</td>\n",
       "      <td>784.55</td>\n",
       "      <td>145.08</td>\n",
       "    </tr>\n",
       "    <tr>\n",
       "      <th>1</th>\n",
       "      <td>18.1</td>\n",
       "      <td>7.421</td>\n",
       "      <td>4.525</td>\n",
       "      <td>16.290</td>\n",
       "      <td>1053.48</td>\n",
       "      <td>133.93</td>\n",
       "    </tr>\n",
       "    <tr>\n",
       "      <th>2</th>\n",
       "      <td>18.6</td>\n",
       "      <td>6.510</td>\n",
       "      <td>5.208</td>\n",
       "      <td>15.624</td>\n",
       "      <td>899.47</td>\n",
       "      <td>110.35</td>\n",
       "    </tr>\n",
       "    <tr>\n",
       "      <th>3</th>\n",
       "      <td>22.4</td>\n",
       "      <td>4.032</td>\n",
       "      <td>5.824</td>\n",
       "      <td>21.056</td>\n",
       "      <td>827.34</td>\n",
       "      <td>142.39</td>\n",
       "    </tr>\n",
       "    <tr>\n",
       "      <th>4</th>\n",
       "      <td>12.0</td>\n",
       "      <td>4.200</td>\n",
       "      <td>3.360</td>\n",
       "      <td>10.920</td>\n",
       "      <td>878.41</td>\n",
       "      <td>165.63</td>\n",
       "    </tr>\n",
       "  </tbody>\n",
       "</table>\n",
       "</div>"
      ],
      "text/plain": [
       "   total  speeding  alcohol  not_distracted  ins_premium  ins_losses\n",
       "0   18.8     7.332    5.640          18.048       784.55      145.08\n",
       "1   18.1     7.421    4.525          16.290      1053.48      133.93\n",
       "2   18.6     6.510    5.208          15.624       899.47      110.35\n",
       "3   22.4     4.032    5.824          21.056       827.34      142.39\n",
       "4   12.0     4.200    3.360          10.920       878.41      165.63"
      ]
     },
     "execution_count": 40,
     "metadata": {},
     "output_type": "execute_result"
    }
   ],
   "source": [
    "#Görev 8\n",
    "import seaborn as sns\n",
    "df = sns.load_dataset(\"car_crashes\")\n",
    "df.columns\n",
    "\n",
    "og_list = [\"abbrev\",\"no_previous\"]\n",
    "new_cols = [col for col in df.columns if col not in og_list ] \n",
    "df[new_cols].head()\n"
   ]
  },
  {
   "cell_type": "code",
   "execution_count": 1,
   "id": "60234672-c1f3-4f4d-bdf4-ed53912989ba",
   "metadata": {},
   "outputs": [
    {
     "name": "stdout",
     "output_type": "stream",
     "text": [
      "[3, 10, 24, 36]\n",
      "[ 3 10 24 36]\n"
     ]
    }
   ],
   "source": [
    "#Numpy Giriş \n",
    "import numpy as np\n",
    "\n",
    "a = [1,2,3,4]\n",
    "b = [3,5,8,9]\n",
    "ab = []\n",
    "\n",
    "for i in range(0,len(a)):\n",
    "    ab.append(a[i]*b[i])\n",
    "print(ab)\n",
    "\n",
    "#Ustteki kodu numpy kullanarak yapacagız\n",
    "\n",
    "a = np.array([1,2,3,4])\n",
    "b = np.array([3,5,8,9])\n",
    "print(a*b)\n"
   ]
  },
  {
   "cell_type": "code",
   "execution_count": 17,
   "id": "18fc3dd1-b14a-4e0a-a4e0-249e40eee11d",
   "metadata": {},
   "outputs": [
    {
     "name": "stdout",
     "output_type": "stream",
     "text": [
      "[23 32 12 11]\n",
      "[0 0 0 0 0 0 0 0 0 0]\n",
      "[ 0 22  4 19 14]\n",
      "[[7.71570294 8.14887783 7.18349575]\n",
      " [9.75678505 8.64403987 9.74885342]]\n"
     ]
    }
   ],
   "source": [
    "#Array oluşturma\n",
    "import numpy as np\n",
    "\n",
    "print(np.array([23,32,12,11]))\n",
    "print(np.zeros(10, dtype=int))\n",
    "print(np.random.randint(0,23,size = 5))\n",
    "print(np.random.normal(10,4,(2,3)))\n",
    "\n"
   ]
  },
  {
   "cell_type": "code",
   "execution_count": 22,
   "id": "b807710a-5e4a-489c-9e35-fa370fdd81b3",
   "metadata": {},
   "outputs": [
    {
     "name": "stdout",
     "output_type": "stream",
     "text": [
      "1\n",
      "(6,)\n",
      "6\n",
      "int32\n"
     ]
    }
   ],
   "source": [
    "# ndim = boyut sayısi\n",
    "# shape = boyut bilgisi\n",
    "# size = toplam eleman sayısı\n",
    "# dtype = array veri tipi\n",
    "\n",
    "a = np.random.randint(1,23, size = 6)\n",
    "print(a.ndim)\n",
    "print(a.shape)\n",
    "print(a.size)\n",
    "print(a.dtype)\n"
   ]
  },
  {
   "cell_type": "code",
   "execution_count": 24,
   "id": "78e278c8-65d7-42b7-95ed-c0c542e92457",
   "metadata": {},
   "outputs": [
    {
     "name": "stdout",
     "output_type": "stream",
     "text": [
      "[18  1 11  0 10  9 13 14 21]\n",
      "[[13 13  1]\n",
      " [12  6  0]\n",
      " [17  7 20]]\n"
     ]
    }
   ],
   "source": [
    "# Reshaping (Boyutunu değiştirme)\n",
    "print(np.random.randint(23, size = 9))\n",
    "print(np.random.randint(23,size = 9).reshape(3,3))\n",
    "# 3 e 3 lük bir vektöre dönüştürdü\n"
   ]
  },
  {
   "cell_type": "code",
   "execution_count": 36,
   "id": "61b3130d-9170-4e92-adbf-6da2f8e74914",
   "metadata": {},
   "outputs": [
    {
     "name": "stdout",
     "output_type": "stream",
     "text": [
      "[[17 14 17 16]\n",
      " [17  5 17  8]\n",
      " [18  1  2  5]]\n",
      "5\n",
      "[14  5  1]\n",
      "----\n",
      "[18  1  2  5]\n"
     ]
    }
   ],
   "source": [
    "# 3 satırlık 4 sütünluk bir array oluşturduk\n",
    "m = np.random.randint(1,23, size = (3,4))\n",
    "print(m)\n",
    "print(m[2,3])\n",
    "#1. sütunun tüm satırlarını al\n",
    "print(m[:,1]) \n",
    "print(\"----\")\n",
    "print(m[2,:])\n"
   ]
  },
  {
   "cell_type": "code",
   "execution_count": 38,
   "id": "339c7c34-b669-40d6-b3bd-afcf65d615fc",
   "metadata": {},
   "outputs": [
    {
     "name": "stdout",
     "output_type": "stream",
     "text": [
      "[23 23 12  3]\n",
      "[23 23]\n"
     ]
    }
   ],
   "source": [
    "#Numpy Koşullu İşlemler\n",
    "v = np.array([23,23,32,12,3])\n",
    "# 32 den küçükk olanları getiriyor\n",
    "print(v[v < 32])\n",
    "print(v[v == 23])\n"
   ]
  },
  {
   "cell_type": "code",
   "execution_count": 1,
   "id": "65fda298-42ea-4a8a-8917-8737090b8d09",
   "metadata": {},
   "outputs": [
    {
     "name": "stdout",
     "output_type": "stream",
     "text": [
      "   survived  pclass     sex   age  sibsp  parch     fare embarked  class  \\\n",
      "0         0       3    male  22.0      1      0   7.2500        S  Third   \n",
      "1         1       1  female  38.0      1      0  71.2833        C  First   \n",
      "2         1       3  female  26.0      0      0   7.9250        S  Third   \n",
      "\n",
      "     who  adult_male deck  embark_town alive  alone  \n",
      "0    man        True  NaN  Southampton    no  False  \n",
      "1  woman       False    C    Cherbourg   yes  False  \n",
      "2  woman       False  NaN  Southampton   yes   True  \n",
      "     survived  pclass     sex   age  sibsp  parch   fare embarked  class  \\\n",
      "888         0       3  female   NaN      1      2  23.45        S  Third   \n",
      "889         1       1    male  26.0      0      0  30.00        C  First   \n",
      "890         0       3    male  32.0      0      0   7.75        Q  Third   \n",
      "\n",
      "       who  adult_male deck  embark_town alive  alone  \n",
      "888  woman       False  NaN  Southampton    no  False  \n",
      "889    man        True    C    Cherbourg   yes   True  \n",
      "890    man        True  NaN   Queenstown    no   True  \n",
      "  ++++ df.shape =(891, 15)\n",
      "<class 'pandas.core.frame.DataFrame'>\n",
      "RangeIndex: 891 entries, 0 to 890\n",
      "Data columns (total 15 columns):\n",
      " #   Column       Non-Null Count  Dtype   \n",
      "---  ------       --------------  -----   \n",
      " 0   survived     891 non-null    int64   \n",
      " 1   pclass       891 non-null    int64   \n",
      " 2   sex          891 non-null    object  \n",
      " 3   age          714 non-null    float64 \n",
      " 4   sibsp        891 non-null    int64   \n",
      " 5   parch        891 non-null    int64   \n",
      " 6   fare         891 non-null    float64 \n",
      " 7   embarked     889 non-null    object  \n",
      " 8   class        891 non-null    category\n",
      " 9   who          891 non-null    object  \n",
      " 10  adult_male   891 non-null    bool    \n",
      " 11  deck         203 non-null    category\n",
      " 12  embark_town  889 non-null    object  \n",
      " 13  alive        891 non-null    object  \n",
      " 14  alone        891 non-null    bool    \n",
      "dtypes: bool(2), category(2), float64(2), int64(4), object(5)\n",
      "memory usage: 80.7+ KB\n",
      "None\n",
      "++++ df.columns = \n",
      "Index(['survived', 'pclass', 'sex', 'age', 'sibsp', 'parch', 'fare',\n",
      "       'embarked', 'class', 'who', 'adult_male', 'deck', 'embark_town',\n",
      "       'alive', 'alone'],\n",
      "      dtype='object')\n",
      "++++ df.index =RangeIndex(start=0, stop=891, step=1)\n",
      "          count       mean        std   min      25%      50%   75%       max\n",
      "survived  891.0   0.383838   0.486592  0.00   0.0000   0.0000   1.0    1.0000\n",
      "pclass    891.0   2.308642   0.836071  1.00   2.0000   3.0000   3.0    3.0000\n",
      "age       714.0  29.699118  14.526497  0.42  20.1250  28.0000  38.0   80.0000\n",
      "sibsp     891.0   0.523008   1.102743  0.00   0.0000   0.0000   1.0    8.0000\n",
      "parch     891.0   0.381594   0.806057  0.00   0.0000   0.0000   0.0    6.0000\n",
      "fare      891.0  32.204208  49.693429  0.00   7.9104  14.4542  31.0  512.3292\n",
      "+++++ df.isnull().values.any() = True\n",
      "+++++ df[sex].head() = \n",
      "0      male\n",
      "1    female\n",
      "2    female\n",
      "3    female\n",
      "4      male\n",
      "Name: sex, dtype: object\n",
      " +++++ df[sex].value_counts() \n",
      "male      577\n",
      "female    314\n",
      "Name: sex, dtype: int64\n"
     ]
    }
   ],
   "source": [
    "# Veriye Hızlı Bakış Önemli\n",
    "import pandas as pd\n",
    "import seaborn as sns\n",
    "\n",
    "df = sns.load_dataset(\"titanic\")\n",
    "print(df. head(3))\n",
    "print(df.tail(3))\n",
    "print(\"  ++++ df.shape =\" + str(df.shape))\n",
    "print(df.info())\n",
    "print(\"++++ df.columns = \\n\" + str(df.columns))\n",
    "print(\"++++ df.index =\" + str(df.index))\n",
    "print(df.describe().T)\n",
    "print(\"+++++ df.isnull().values.any() = \" + str(df.isnull().values.any()))\n",
    "print(\"+++++ df[sex].head() = \\n\" + str(df[\"sex\"].head()))\n",
    "print(\" +++++ df[sex].value_counts() \\n\" + str(df[\"sex\"].value_counts()))\n"
   ]
  },
  {
   "cell_type": "code",
   "execution_count": 2,
   "id": "be6e2436-db39-429f-9ce6-2c8b82e74be5",
   "metadata": {},
   "outputs": [
    {
     "name": "stdout",
     "output_type": "stream",
     "text": [
      "Degişkeni indexe cevirme\n",
      "      survived  pclass     sex  sibsp  parch     fare embarked  class    who  \\\n",
      "age                                                                            \n",
      "22.0         0       3    male      1      0   7.2500        S  Third    man   \n",
      "38.0         1       1  female      1      0  71.2833        C  First  woman   \n",
      "26.0         1       3  female      0      0   7.9250        S  Third  woman   \n",
      "\n",
      "      adult_male deck  embark_town alive  alone  \n",
      "age                                              \n",
      "22.0        True  NaN  Southampton    no  False  \n",
      "38.0       False    C    Cherbourg   yes  False  \n",
      "26.0       False  NaN  Southampton   yes   True  \n",
      "Indexi Değişkene Çevirmek\n",
      "      survived  pclass     sex  sibsp  parch     fare embarked  class    who  \\\n",
      "age                                                                            \n",
      "22.0         0       3    male      1      0   7.2500        S  Third    man   \n",
      "38.0         1       1  female      1      0  71.2833        C  First  woman   \n",
      "26.0         1       3  female      0      0   7.9250        S  Third  woman   \n",
      "35.0         1       1  female      1      0  53.1000        S  First  woman   \n",
      "35.0         0       3    male      0      0   8.0500        S  Third    man   \n",
      "\n",
      "      adult_male deck  embark_town alive  alone   age  \n",
      "age                                                    \n",
      "22.0        True  NaN  Southampton    no  False  22.0  \n",
      "38.0       False    C    Cherbourg   yes  False  38.0  \n",
      "26.0       False  NaN  Southampton   yes   True  26.0  \n",
      "35.0       False    C  Southampton   yes  False  35.0  \n",
      "35.0        True  NaN  Southampton    no   True  35.0  \n",
      "Indexi Değişkene Çevirmek 2.Yol\n",
      "    age  survived  pclass     sex  sibsp  parch     fare embarked  class  \\\n",
      "0  22.0         0       3    male      1      0   7.2500        S  Third   \n",
      "1  38.0         1       1  female      1      0  71.2833        C  First   \n",
      "2  26.0         1       3  female      0      0   7.9250        S  Third   \n",
      "3  35.0         1       1  female      1      0  53.1000        S  First   \n",
      "4  35.0         0       3    male      0      0   8.0500        S  Third   \n",
      "\n",
      "     who  adult_male deck  embark_town alive  alone  \n",
      "0    man        True  NaN  Southampton    no  False  \n",
      "1  woman       False    C    Cherbourg   yes  False  \n",
      "2  woman       False  NaN  Southampton   yes   True  \n",
      "3  woman       False    C  Southampton   yes  False  \n",
      "4    man        True  NaN  Southampton    no   True  \n"
     ]
    }
   ],
   "source": [
    "# Pandas'ta Seçim Islemleri (Selection in Pandas) Önemli\n",
    "import pandas as pd\n",
    "import seaborn as sns\n",
    "\n",
    "df = sns.load_dataset(\"titanic\")\n",
    "# === Degişkeni indexe cevirme ===\n",
    "#age sütunu(axis = 1 old. için) siliyoruz(drop kullanılms)\n",
    "#kalıcı silmek istiyorsak inplace= True yazıyoruz\n",
    "print(\"Degişkeni indexe cevirme\")\n",
    "df.index = df[\"age\"]\n",
    "df.drop(\"age\",axis = 1,inplace = True)\n",
    "print(df.head(3))\n",
    "\n",
    "\n",
    "# Indexi Değişkene Çevirmek\n",
    "print(\"Indexi Değişkene Çevirmek\")\n",
    "df[\"age\"] = df.index\n",
    "print(df.head())\n",
    "\n",
    "# 2. Yol \n",
    "# 2. Yol geçmeden yaptığımız işelemi silelim ki \n",
    "# 2. yolu görelim ok.\n",
    "print(\"Indexi Değişkene Çevirmek 2.Yol\")\n",
    "df.drop(\"age\",axis = 1,inplace = True)\n",
    "df = df.reset_index()\n",
    "\n",
    "print(df.head())\n"
   ]
  },
  {
   "cell_type": "code",
   "execution_count": 8,
   "id": "b7db49a7-a6de-4b4f-8999-d93c162fe062",
   "metadata": {},
   "outputs": [
    {
     "name": "stdout",
     "output_type": "stream",
     "text": [
      "<class 'pandas.core.series.Series'>\n",
      "<class 'pandas.core.frame.DataFrame'>\n",
      "   survived  pclass     sex   age  sibsp  parch     fare embarked  class  \\\n",
      "0         0       3    male  22.0      1      0   7.2500        S  Third   \n",
      "1         1       1  female  38.0      1      0  71.2833        C  First   \n",
      "2         1       3  female  26.0      0      0   7.9250        S  Third   \n",
      "3         1       1  female  35.0      1      0  53.1000        S  First   \n",
      "4         0       3    male  35.0      0      0   8.0500        S  Third   \n",
      "\n",
      "     who  adult_male deck  embark_town  alone    age2  \n",
      "0    man        True  NaN  Southampton  False   484.0  \n",
      "1  woman       False    C    Cherbourg  False  1444.0  \n",
      "2  woman       False  NaN  Southampton   True   676.0  \n",
      "3  woman       False    C  Southampton  False  1225.0  \n",
      "4    man        True  NaN  Southampton   True  1225.0  \n",
      "    age    age2\n",
      "0  22.0   484.0\n",
      "1  38.0  1444.0\n",
      "2  26.0   676.0\n",
      "   survived  pclass     sex  sibsp  parch     fare embarked  class    who  \\\n",
      "0         0       3    male      1      0   7.2500        S  Third    man   \n",
      "1         1       1  female      1      0  71.2833        C  First  woman   \n",
      "2         1       3  female      0      0   7.9250        S  Third  woman   \n",
      "\n",
      "   adult_male deck  embark_town alive  alone  \n",
      "0        True  NaN  Southampton    no  False  \n",
      "1       False    C    Cherbourg   yes  False  \n",
      "2       False  NaN  Southampton   yes   True  \n"
     ]
    }
   ],
   "source": [
    "# Değişkenler Üzerinde İşlemler\n",
    "import pandas as pd\n",
    "import seaborn as sns\n",
    "df = sns.load_dataset(\"titanic\")\n",
    "\n",
    "# Bir değişken seçerken sonucu seri ya da frame olarak alabiliriz\n",
    "# Age değişkenini boyle secersek pandas serisi türünden seçmiş oluruz.\n",
    "df[\"age\"].head()\n",
    "print(type(df[\"age\"].head()))\n",
    "\n",
    "# İki tane koşeli parantezle alınca da verimiz bozulmaz data frame olarak devam etmiş oluruz.\n",
    "df[[\"age\"]].head()\n",
    "print(type(df[[\"age\"]]))\n",
    "\n",
    "# Data frame yeni değişken ekleme\n",
    "# Eğer yoksa o değişken direkt böyle yapabilirsin\n",
    "df[\"age2\"] = df[\"age\"] ** 2\n",
    "\n",
    "# Silmek için ama kalıcı değil kalıcı istersen inplace = True yap\n",
    "print(df.drop(\"alive\",axis = 1).head())\n",
    "\n",
    "# İçinde yaş ifadesi olanları seçti\n",
    "print(df.loc[:, df.columns.str.contains(\"age\")].head(3))\n",
    "# Bunun değili için \n",
    "print(df.loc[:, ~df.columns.str.contains(\"age\")].head(3))\n",
    "\n"
   ]
  },
  {
   "cell_type": "code",
   "execution_count": 6,
   "id": "220dc04b-8d16-4135-a699-e7a5f77ff07e",
   "metadata": {},
   "outputs": [
    {
     "name": "stdout",
     "output_type": "stream",
     "text": [
      "   survived  pclass     sex   age  sibsp  parch     fare embarked  class  \\\n",
      "0         0       3    male  22.0      1      0   7.2500        S  Third   \n",
      "1         1       1  female  38.0      1      0  71.2833        C  First   \n",
      "2         1       3  female  26.0      0      0   7.9250        S  Third   \n",
      "\n",
      "     who  adult_male deck  embark_town alive  alone  \n",
      "0    man        True  NaN  Southampton    no  False  \n",
      "1  woman       False    C    Cherbourg   yes  False  \n",
      "2  woman       False  NaN  Southampton   yes   True  \n",
      "   survived  pclass     sex   age  sibsp  parch     fare embarked  class  \\\n",
      "0         0       3    male  22.0      1      0   7.2500        S  Third   \n",
      "1         1       1  female  38.0      1      0  71.2833        C  First   \n",
      "2         1       3  female  26.0      0      0   7.9250        S  Third   \n",
      "3         1       1  female  35.0      1      0  53.1000        S  First   \n",
      "\n",
      "     who  adult_male deck  embark_town alive  alone  \n",
      "0    man        True  NaN  Southampton    no  False  \n",
      "1  woman       False    C    Cherbourg   yes  False  \n",
      "2  woman       False  NaN  Southampton   yes   True  \n",
      "3  woman       False    C  Southampton   yes  False  \n",
      "    age\n",
      "0  22.0\n",
      "1  38.0\n",
      "2  26.0\n",
      "************\n",
      "Age \n",
      "0    22.0\n",
      "1    38.0\n",
      "2    26.0\n",
      "3    35.0\n",
      "Name: age, dtype: float64\n"
     ]
    }
   ],
   "source": [
    "# Loc & Iloc\n",
    "import pandas as pd\n",
    "import seaborn as sns\n",
    "df = sns.load_dataset(\"titanic\")\n",
    "\n",
    "# loc ve iloc farkı buradaki indexlerden kaynaklı\n",
    "# iloc: integer based selection\n",
    "print(df.iloc[0:3])\n",
    "# loc: label based selection\n",
    "print(df.loc[0:3])\n",
    "\n",
    "# alttakiler aynı çıktıyı veriyor yani iloc ve loc la boyle yapalısın\n",
    "print(df.iloc[0:3,3:4])\n",
    "print(\"*\"*12)\n",
    "print(\"Age \\n\" + str(df.loc[0:3,\"age\"]))\n"
   ]
  },
  {
   "cell_type": "code",
   "execution_count": 42,
   "id": "0d22a224-3f6e-4c31-b9c2-f95579b86482",
   "metadata": {},
   "outputs": [
    {
     "name": "stdout",
     "output_type": "stream",
     "text": [
      "468\n",
      "    age  class  embark_town\n",
      "1  38.0  First    Cherbourg\n",
      "2  26.0  Third  Southampton\n",
      "3  35.0  First  Southampton\n",
      "4  35.0  Third  Southampton\n",
      "6  54.0  First  Southampton\n",
      "************\n",
      "age   class  embark_town\n",
      "26.0  Third  Southampton    1\n",
      "27.0  Third  Southampton    1\n",
      "35.0  First  Southampton    1\n",
      "38.0  First  Cherbourg      1\n",
      "58.0  First  Southampton    1\n",
      "dtype: int64\n",
      "************\n",
      "Southampton    4\n",
      "Cherbourg      1\n",
      "Name: embark_town, dtype: int64\n"
     ]
    }
   ],
   "source": [
    "# Koşullu Seçme\n",
    "\n",
    "# 23 den büyük kaç kişi var\n",
    "print(df[df[\"age\"] > 23][\"age\"].count())\n",
    "\n",
    "# Yaşı 23 den büyük kişilerin \"age\",\"class\",\"embark_town\" yapısını cağırdık\n",
    "# Ayrıca [\"age\",\"class\",\"embark_town\"] yazarak üç bilginin aynı anda gosterılmesını sağladık\n",
    "print(df.loc[df[\"age\"] > 23, [\"age\",\"class\",\"embark_town\"]].head())\n",
    "\n",
    "print(\"*\"*12)\n",
    "\n",
    "# Birden fazla koşul girilirse parantez içine alınacak\n",
    "# Yaşı 23 den büyük ve kadın olan embark_town Cherbourg eşit ya da Southamptona eşit olanlar\n",
    "df_new = df.loc[(df[\"age\"] > 23) \n",
    "             & (df[\"sex\"] == \"female\")\n",
    "             & ((df[\"embark_town\"] == \"Cherbourg\") | (df[\"embark_town\"] == \"Southampton\")),\n",
    "             [\"age\",\"class\",\"embark_town\"]].head()\n",
    "print(df_new.value_counts())\n",
    "print(\"*\"*12)\n",
    "print(df_new[\"embark_town\"].value_counts())\n"
   ]
  },
  {
   "cell_type": "code",
   "execution_count": 50,
   "id": "434a4464-3e25-4245-8859-ae2e2758f685",
   "metadata": {},
   "outputs": [
    {
     "name": "stdout",
     "output_type": "stream",
     "text": [
      "sex\n",
      "female    27.915709\n",
      "male      30.726645\n",
      "Name: age, dtype: float64\n",
      "              age\n",
      "sex              \n",
      "female  27.915709\n",
      "male    30.726645\n",
      "************\n",
      "              age          \n",
      "             mean       sum\n",
      "sex                        \n",
      "female  27.915709   7286.00\n",
      "male    30.726645  13919.17\n",
      "************\n",
      "                                 age  survived  sex\n",
      "sex    embark_town class                           \n",
      "female Cherbourg   First   36.052632  0.976744   43\n",
      "                   Second  19.142857  1.000000    7\n",
      "                   Third   14.062500  0.652174   23\n",
      "       Queenstown  First   33.000000  1.000000    1\n",
      "                   Second  30.000000  1.000000    2\n",
      "                   Third   22.850000  0.727273   33\n",
      "       Southampton First   32.704545  0.958333   48\n",
      "                   Second  29.719697  0.910448   67\n",
      "                   Third   23.223684  0.375000   88\n",
      "male   Cherbourg   First   40.111111  0.404762   42\n",
      "                   Second  25.937500  0.200000   10\n",
      "                   Third   25.016800  0.232558   43\n",
      "       Queenstown  First   44.000000  0.000000    1\n",
      "                   Second  57.000000  0.000000    1\n",
      "                   Third   28.142857  0.076923   39\n",
      "       Southampton First   41.897188  0.354430   79\n",
      "                   Second  30.875889  0.154639   97\n",
      "                   Third   26.574766  0.128302  265\n"
     ]
    }
   ],
   "source": [
    "# Toplulaştırma ve Gruplama (Aggregation & Grouping)\n",
    "\n",
    "# Cinsiyete göre gruplayıp yaş değişkenine göre ortalamasını aldık\n",
    "print(df.groupby(\"sex\")[\"age\"].mean())\n",
    "# üsttekiyle aynı ama .agg ile kullanınca birden fazla kullanabiliriz\n",
    "print(df.groupby(\"sex\").agg({\"age\": \"mean\"}))\n",
    "print(\"*\"*12)\n",
    "print(df.groupby(\"sex\").agg({\"age\": [\"mean\",\"sum\"]}))\n",
    "\n",
    "print(\"*\"*12)\n",
    "\n",
    "print(df.groupby([\"sex\",\"embark_town\",\"class\"])\n",
    "      .agg({\"age\": \"mean\",\n",
    "          \"survived\": \"mean\",\n",
    "          \"sex\": \"count\"\n",
    "           }))\n"
   ]
  },
  {
   "cell_type": "code",
   "execution_count": 59,
   "id": "9f6127a9-5782-4cd7-90a3-602dfd84cb54",
   "metadata": {},
   "outputs": [
    {
     "name": "stdout",
     "output_type": "stream",
     "text": [
      "embarked         C                      Q                          S  \\\n",
      "class        First Second     Third First Second     Third     First   \n",
      "sex                                                                    \n",
      "female    0.976744    1.0  0.652174   1.0    1.0  0.727273  0.958333   \n",
      "male      0.404762    0.2  0.232558   0.0    0.0  0.076923  0.354430   \n",
      "\n",
      "embarked                      \n",
      "class       Second     Third  \n",
      "sex                           \n",
      "female    0.910448  0.375000  \n",
      "male      0.154639  0.128302  \n",
      "************\n",
      "new_age (0, 10]                   (10, 18]                   (18, 25]  \\\n",
      "class     First Second     Third     First Second     Third     First   \n",
      "sex                                                                     \n",
      "female      0.0    1.0  0.500000  1.000000    1.0  0.523810  0.941176   \n",
      "male        1.0    1.0  0.363636  0.666667    0.0  0.103448  0.333333   \n",
      "\n",
      "new_age                      (25, 40]                      (40, 90]            \\\n",
      "class      Second     Third     First    Second     Third     First    Second   \n",
      "sex                                                                             \n",
      "female   0.933333  0.500000  1.000000  0.906250  0.464286  0.961538  0.846154   \n",
      "male     0.047619  0.115385  0.513514  0.071429  0.172043  0.280000  0.095238   \n",
      "\n",
      "new_age            \n",
      "class       Third  \n",
      "sex                \n",
      "female   0.111111  \n",
      "male     0.064516  \n"
     ]
    }
   ],
   "source": [
    "# Pivot Table\n",
    "\n",
    "# pivot_table da ilk yer kesişimleri,index(yani satır), en son yer sütun temsil ediyor\n",
    "print(df.pivot_table(\"survived\",\"sex\",[\"embarked\",\"class\"]).head())\n",
    "\n",
    "# Yaş değişkenini kategorik değişkene çevirme\n",
    "# Sayısal değişkeni hangi kategorilere bolmek istediğimizi biliyorsak .cut bilmiyorsak .qcut kullan\n",
    "df[\"new_age\"] = pd.cut(df[\"age\"],[0,10,18,25,40,90]) \n",
    "\n",
    "print(\"*\"*12)\n",
    "print(df.pivot_table(\"survived\",\"sex\",[\"new_age\",\"class\"]))\n"
   ]
  },
  {
   "cell_type": "code",
   "execution_count": 66,
   "id": "f0dc7db4-2187-48fa-b1b7-1686b8c4b69f",
   "metadata": {},
   "outputs": [
    {
     "name": "stdout",
     "output_type": "stream",
     "text": [
      "   age  age2  age3\n",
      "0  2.2   4.4  11.0\n",
      "1  3.8   7.6  19.0\n",
      "2  2.6   5.2  13.0\n",
      "3  3.5   7.0  17.5\n",
      "4  3.5   7.0  17.5\n",
      "************\n"
     ]
    }
   ],
   "source": [
    "# Apply & Lambda\n",
    "\n",
    "# Apply bize belirli bir fonk satırlarda ve süturlarda uygulamamızı sağlıyor\n",
    "# Apply tek satırlık for döngüsü gibi\n",
    "df[\"age2\"] = df[\"age\"]*2\n",
    "df[\"age3\"] = df[\"age\"]*5\n",
    "\n",
    "print(df[[\"age\",\"age2\",\"age3\"]].apply(lambda x: x/10).head())\n"
   ]
  },
  {
   "cell_type": "code",
   "execution_count": 71,
   "id": "7c4d30ee-3357-4960-a1e5-4ec7b5f93d59",
   "metadata": {},
   "outputs": [
    {
     "name": "stdout",
     "output_type": "stream",
     "text": [
      "   var1  var2  var3\n",
      "0    20     2    10\n",
      "1     4    20    24\n",
      "2    17     9     4\n",
      "3    20    23    10\n",
      "4     6    26    13\n",
      "0   250   232   240\n",
      "1   234   250   254\n",
      "2   247   239   234\n",
      "3   250   253   240\n",
      "4   236   256   243\n",
      "************\n",
      "   var1  var2  var3\n",
      "0    20     2    10\n",
      "1     4    20    24\n",
      "2    17     9     4\n",
      "3    20    23    10\n",
      "4     6    26    13\n",
      "5   250   232   240\n",
      "6   234   250   254\n",
      "7   247   239   234\n",
      "8   250   253   240\n",
      "9   236   256   243\n"
     ]
    }
   ],
   "source": [
    "# Birleştirme(Join) İşlemleri\n",
    "# Concat ile birleştirme\n",
    "\n",
    "import numpy as np\n",
    "import pandas as pd\n",
    "\n",
    "m = np.random.randint(1,30, size=(5,3))\n",
    "df1 = pd.DataFrame(m,columns=[\"var1\",\"var2\",\"var3\"])\n",
    "df2 = df1 + 230\n",
    "\n",
    "print(pd.concat([df1,df2]))\n",
    "print(\"*\"*12)\n",
    "\n",
    "# Gördüğün gibi üsttekinde indexlerde bir yanlışlık var o yüzden boyle yapabilrisn\n",
    "print(pd.concat([df1,df2],ignore_index = True))"
   ]
  },
  {
   "cell_type": "code",
   "execution_count": 73,
   "id": "bd6b23b5-e598-44aa-a0b3-8ee80f733eb4",
   "metadata": {},
   "outputs": [
    {
     "name": "stdout",
     "output_type": "stream",
     "text": [
      "  employees        group  start_date\n",
      "0     maria   accounting        2002\n",
      "1      bosh           hr        2003\n",
      "2      hosh  engineering        2023\n",
      "3      losh  engineering        2005\n",
      "************\n",
      "  employees        group  start_date manager\n",
      "0     maria   accounting        2002   Bahar\n",
      "1      bosh           hr        2003   Hunda\n",
      "2      hosh  engineering        2023   Funda\n",
      "3      losh  engineering        2005   Funda\n"
     ]
    }
   ],
   "source": [
    "# Birleştirme(Join) İşlemleri\n",
    "# Merge ile birleştirme\n",
    "\n",
    "df1 = pd.DataFrame({'employees':['maria','bosh','hosh','losh'],\n",
    "                   'group': ['accounting','hr','engineering','engineering']})\n",
    "df2 = pd.DataFrame({'employees':['maria','bosh','hosh','losh'],\n",
    "                   'start_date': [2002,2003,2023,2005]})\n",
    "print(pd.merge(df1,df2)) \n",
    "\n",
    "# Bu bilgileri df3 e kaydediyoruz\n",
    "df3 = pd.merge(df1,df2)\n",
    "print(\"*\"*12)\n",
    "# Amaç: Her çalışanın müdürünün bilgisine erişmek istiyoruz.\n",
    "df4 = pd.DataFrame({\n",
    "    'group': ['accounting','engineering','hr'],\n",
    "    'manager': ['Bahar','Funda','Hunda']})\n",
    "\n",
    "print(pd.merge(df3,df4)) \n",
    "\n",
    "\n"
   ]
  },
  {
   "cell_type": "code",
   "execution_count": 3,
   "id": "5472eaf8-b910-4b36-ad43-e63ec1725f30",
   "metadata": {},
   "outputs": [
    {
     "data": {
      "image/png": "[encoded data removed]",
      "text/plain": [
       "<Figure size 432x288 with 1 Axes>"
      ]
     },
     "metadata": {
      "needs_background": "light"
     },
     "output_type": "display_data"
    }
   ],
   "source": [
    "# VERİ GÖRSELLEŞTİRME\n",
    "\n",
    "# MATPLOTLIB İLE GÖRSELLEŞTİRME\n",
    "\n",
    "# Kategorik değişkeni sütun grafike çevrilmeli. countplot, bar la yapılabılr\n",
    "# Sayısal değişken histogram ve boxplota çevrilmeli. hist, boxplot kullanabilirsn\n",
    "\n",
    "import pandas as pd\n",
    "import seaborn as sns\n",
    "import matplotlib.pyplot as plt\n",
    "\n",
    "df = sns.load_dataset(\"titanic\")\n",
    "\n",
    "# Kategorik değişkeni görselleştirme\n",
    "df[\"sex\"].value_counts().plot(kind='bar')\n",
    "plt.show()\n"
   ]
  },
  {
   "cell_type": "code",
   "execution_count": 11,
   "id": "970562e1-1dde-4b65-9746-df316c42df2f",
   "metadata": {},
   "outputs": [
    {
     "data": {
      "image/png": "[encoded data removed]",
      "text/plain": [
       "<Figure size 432x288 with 1 Axes>"
      ]
     },
     "metadata": {
      "needs_background": "light"
     },
     "output_type": "display_data"
    },
    {
     "data": {
      "image/png": "[encoded data removed]",
      "text/plain": [
       "<Figure size 432x288 with 1 Axes>"
      ]
     },
     "metadata": {
      "needs_background": "light"
     },
     "output_type": "display_data"
    }
   ],
   "source": [
    "import pandas as pd\n",
    "import seaborn as sns\n",
    "import matplotlib.pyplot as plt\n",
    "\n",
    "df = sns.load_dataset(\"titanic\")\n",
    "\n",
    "# Sayısal değişkeni görselleştirme\n",
    "plt.hist(df[\"age\"])\n",
    "plt.show()\n",
    "\n",
    "plt.boxplot(df[\"fare\"])\n",
    "plt.show()\n"
   ]
  },
  {
   "cell_type": "code",
   "execution_count": 13,
   "id": "522e1418-d451-44d9-9440-0a72ce31611d",
   "metadata": {},
   "outputs": [
    {
     "data": {
      "image/png": "[encoded data removed]",
      "text/plain": [
       "<Figure size 432x288 with 1 Axes>"
      ]
     },
     "metadata": {
      "needs_background": "light"
     },
     "output_type": "display_data"
    }
   ],
   "source": [
    "# Plot özelliği\n",
    "\n",
    "x = np.random.randint(0,3,size = 2)\n",
    "y = np.random.randint(0,23,size = 2)\n",
    "plt.plot(x,y)\n",
    "plt.show()\n"
   ]
  },
  {
   "cell_type": "code",
   "execution_count": 17,
   "id": "f8db7e31-7f86-4f57-8f87-f82d52d648cc",
   "metadata": {},
   "outputs": [
    {
     "data": {
      "image/png": "[encoded data removed]",
      "text/plain": [
       "<Figure size 432x288 with 1 Axes>"
      ]
     },
     "metadata": {
      "needs_background": "light"
     },
     "output_type": "display_data"
    }
   ],
   "source": [
    "# Line özelliği\n",
    "y = np.random.randint(0,23,size = 6)\n",
    "plt.plot(y,linestyle=\"dashed\")\n",
    "plt.show()\n",
    "\n"
   ]
  },
  {
   "cell_type": "code",
   "execution_count": 21,
   "id": "480d0712-a28a-446c-a3e3-ae1261c405fe",
   "metadata": {},
   "outputs": [
    {
     "data": {
      "image/png": "[encoded data removed]",
      "text/plain": [
       "<Figure size 432x288 with 1 Axes>"
      ]
     },
     "metadata": {
      "needs_background": "light"
     },
     "output_type": "display_data"
    }
   ],
   "source": [
    "# Labels \n",
    "import pandas as pd\n",
    "import seaborn as sns\n",
    "import matplotlib.pyplot as plt\n",
    "\n",
    "x = np.array([190,323,176,245,370])\n",
    "y = np.array([123,230,256,145,270])\n",
    "plt.plot(x)\n",
    "plt.plot(y)\n",
    "# Başlık\n",
    "plt.title(\"Bu ana başlık\")\n",
    "\n",
    "# X eksenini isimlendirme\n",
    "plt.xlabel(\"X ekseni isimlendirme\")\n",
    "\n",
    "# Y eksenini isimlendirme\n",
    "plt.ylabel(\"Y ekseni isimlendirme\")\n",
    "\n",
    "plt.show()\n"
   ]
  },
  {
   "cell_type": "code",
   "execution_count": 28,
   "id": "bbfc3111-2950-48c5-a289-e92c68eedbd3",
   "metadata": {},
   "outputs": [
    {
     "name": "stdout",
     "output_type": "stream",
     "text": [
      "Male      157\n",
      "Female     87\n",
      "Name: sex, dtype: int64\n"
     ]
    },
    {
     "data": {
      "image/png": "[encoded data removed]",
      "text/plain": [
       "<Figure size 432x288 with 1 Axes>"
      ]
     },
     "metadata": {
      "needs_background": "light"
     },
     "output_type": "display_data"
    }
   ],
   "source": [
    "# SEABORN İLE GÖRSELLEŞTİRME\n",
    "\n",
    "import pandas as pd\n",
    "import seaborn as sns\n",
    "from matplotlib import pyplot as plt\n",
    "df = sns.load_dataset(\"tips\")\n",
    "df.head()\n",
    "\n",
    "# Kategorik değişken görselleştirme\n",
    "# Önemli kategorik değişkende ilk value count bak bir\n",
    "\n",
    "print(df[\"sex\"].value_counts())\n",
    "sns.countplot(x=df[\"sex\"],data=df)\n",
    "plt.show()\n"
   ]
  },
  {
   "cell_type": "code",
   "execution_count": 29,
   "id": "3912a4b3-352d-4706-b7e5-87754cc1dada",
   "metadata": {},
   "outputs": [
    {
     "data": {
      "image/png": "[encoded data removed]",
      "text/plain": [
       "<Figure size 432x288 with 1 Axes>"
      ]
     },
     "metadata": {
      "needs_background": "light"
     },
     "output_type": "display_data"
    },
    {
     "data": {
      "image/png": "[encoded data removed]",
      "text/plain": [
       "<Figure size 432x288 with 1 Axes>"
      ]
     },
     "metadata": {
      "needs_background": "light"
     },
     "output_type": "display_data"
    }
   ],
   "source": [
    "# Sayısal Değişken görselleştirme (Seaborn)\n",
    "sns.boxplot(x=df[\"total_bill\"])\n",
    "plt.show()\n",
    "\n",
    "# Bu pandas ile\n",
    "df[\"total_bill\"].hist()\n",
    "plt.show()"
   ]
  },
  {
   "cell_type": "code",
   "execution_count": 32,
   "id": "134105e9-0aec-4ab3-928b-684b96e1e781",
   "metadata": {},
   "outputs": [
    {
     "name": "stdout",
     "output_type": "stream",
     "text": [
      "######################## Shape ########################\n",
      "(244, 7)\n",
      "######################## Types ########################\n",
      "total_bill     float64\n",
      "tip            float64\n",
      "sex           category\n",
      "smoker        category\n",
      "day           category\n",
      "time          category\n",
      "size             int64\n",
      "dtype: object\n",
      "######################## Head ########################\n",
      "   total_bill   tip     sex smoker  day    time  size\n",
      "0       16.99  1.01  Female     No  Sun  Dinner     2\n",
      "1       10.34  1.66    Male     No  Sun  Dinner     3\n",
      "2       21.01  3.50    Male     No  Sun  Dinner     3\n",
      "3       23.68  3.31    Male     No  Sun  Dinner     2\n",
      "4       24.59  3.61  Female     No  Sun  Dinner     4\n",
      "######################## Tail ########################\n",
      "     total_bill   tip     sex smoker   day    time  size\n",
      "239       29.03  5.92    Male     No   Sat  Dinner     3\n",
      "240       27.18  2.00  Female    Yes   Sat  Dinner     2\n",
      "241       22.67  2.00    Male    Yes   Sat  Dinner     2\n",
      "242       17.82  1.75    Male     No   Sat  Dinner     2\n",
      "243       18.78  3.00  Female     No  Thur  Dinner     2\n",
      "######################## NA ########################\n",
      "total_bill    0\n",
      "tip           0\n",
      "sex           0\n",
      "smoker        0\n",
      "day           0\n",
      "time          0\n",
      "size          0\n",
      "dtype: int64\n",
      "######################## Quantiles ########################\n",
      "            count       mean       std   min    0%      5%     50%      95%  \\\n",
      "total_bill  244.0  19.785943  8.902412  3.07  3.07  9.5575  17.795  38.0610   \n",
      "tip         244.0   2.998279  1.383638  1.00  1.00  1.4400   2.900   5.1955   \n",
      "size        244.0   2.569672  0.951100  1.00  1.00  2.0000   2.000   4.0000   \n",
      "\n",
      "                99%   100%    max  \n",
      "total_bill  48.2270  50.81  50.81  \n",
      "tip          7.2145  10.00  10.00  \n",
      "size         6.0000   6.00   6.00  \n"
     ]
    }
   ],
   "source": [
    "# 4.4 Python ile Veri Analizi: Gelişmiş Fonksiyonel Keşifçi Veri Analizi\n",
    "\n",
    "import pandas as pd\n",
    "import seaborn as sns\n",
    "from matplotlib import pyplot as plt\n",
    "df = sns.load_dataset(\"tips\")\n",
    "\n",
    "#Kolaylık sağlayacak bir fonksiyon tanımladık\n",
    "def check_df(dataframe,head=5):\n",
    "    print(\"######################## Shape ########################\")\n",
    "    print(dataframe.shape)\n",
    "    print(\"######################## Types ########################\")\n",
    "    print(dataframe.dtypes)\n",
    "    print(\"######################## Head ########################\")\n",
    "    print(dataframe.head(head))\n",
    "    print(\"######################## Tail ########################\")\n",
    "    print(dataframe.tail(head))\n",
    "    print(\"######################## NA ########################\")\n",
    "    print(dataframe.isnull().sum())\n",
    "    print(\"######################## Quantiles ########################\")\n",
    "    print(dataframe.describe([0,0.05,0.50,0.95,0.99,1]).T)\n",
    "    \n",
    "check_df(df)\n"
   ]
  },
  {
   "cell_type": "code",
   "execution_count": 3,
   "id": "09574f77-73d5-4d6e-af7d-14ace9bb24e2",
   "metadata": {},
   "outputs": [
    {
     "name": "stdout",
     "output_type": "stream",
     "text": [
      "0    0\n",
      "1    1\n",
      "2    1\n",
      "3    1\n",
      "4    0\n",
      "Name: survived, dtype: int64\n",
      "   survived      Ratio\n",
      "0       549  61.616162\n",
      "1       342  38.383838\n",
      "#######################\n",
      "        sex      Ratio\n",
      "male    577  64.758698\n",
      "female  314  35.241302\n",
      "#######################\n",
      "None\n",
      "   embarked      Ratio\n",
      "S       644  72.278339\n",
      "C       168  18.855219\n",
      "Q        77   8.641975\n",
      "#######################\n",
      "None\n",
      "        class      Ratio\n",
      "Third     491  55.106622\n",
      "First     216  24.242424\n",
      "Second    184  20.650954\n",
      "#######################\n",
      "None\n",
      "       who      Ratio\n",
      "man    537  60.269360\n",
      "woman  271  30.415264\n",
      "child   83   9.315376\n",
      "#######################\n",
      "None\n",
      "       adult_male     Ratio\n",
      "True          537  60.26936\n",
      "False         354  39.73064\n",
      "#######################\n",
      "None\n",
      "   deck     Ratio\n",
      "C    59  6.621773\n",
      "B    47  5.274972\n",
      "D    33  3.703704\n",
      "E    32  3.591470\n",
      "A    15  1.683502\n",
      "F    13  1.459035\n",
      "G     4  0.448934\n",
      "#######################\n",
      "None\n",
      "             embark_town      Ratio\n",
      "Southampton          644  72.278339\n",
      "Cherbourg            168  18.855219\n",
      "Queenstown            77   8.641975\n",
      "#######################\n",
      "None\n",
      "     alive      Ratio\n",
      "no     549  61.616162\n",
      "yes    342  38.383838\n",
      "#######################\n",
      "None\n",
      "       alone     Ratio\n",
      "True     537  60.26936\n",
      "False    354  39.73064\n",
      "#######################\n",
      "None\n",
      "   survived      Ratio\n",
      "0       549  61.616162\n",
      "1       342  38.383838\n",
      "#######################\n",
      "None\n",
      "   pclass      Ratio\n",
      "3     491  55.106622\n",
      "1     216  24.242424\n",
      "2     184  20.650954\n",
      "#######################\n",
      "None\n",
      "   sibsp      Ratio\n",
      "0    608  68.237935\n",
      "1    209  23.456790\n",
      "2     28   3.142536\n",
      "4     18   2.020202\n",
      "3     16   1.795735\n",
      "8      7   0.785634\n",
      "5      5   0.561167\n",
      "#######################\n",
      "None\n",
      "   parch      Ratio\n",
      "0    678  76.094276\n",
      "1    118  13.243547\n",
      "2     80   8.978676\n",
      "5      5   0.561167\n",
      "3      5   0.561167\n",
      "4      4   0.448934\n",
      "6      1   0.112233\n",
      "#######################\n",
      "None\n"
     ]
    }
   ],
   "source": [
    "# KATEGORIK DEĞIŞKEN ANALIZ YAPMA (Analysis of Categorical Variables)\n",
    "# Önemli \n",
    "import pandas as pd\n",
    "import seaborn as sns\n",
    "import matplotlib.pyplot as plt\n",
    "\n",
    "df = sns.load_dataset(\"titanic\")\n",
    "# class taki eşsiz olan değişken sayısını veriyor\n",
    "df[\"class\"].nunique()\n",
    "\n",
    "cat_cols = [col for col in df.columns if str(df[col].dtypes) in [\"category\",\"object\",\"bool\"]]\n",
    "num_but_cat = [col for col in df.columns if df[col].nunique() < 10 and str(df[col].dtypes) in [\"int64\",\"float64\"]]\n",
    "cat_but_car = [col for col in df.columns if df[col].nunique() > 20 and str(df[col].dtypes) in [\"category\",\"object\"]]\n",
    "# num_but_cat = numerical but categorical (sayısal ama kategorik olanlar mesela survive ın 1 0 olması durumları)\n",
    "# burada eşsiz değişken sayısını <10 diye belirledik değişebilir\n",
    "\n",
    "cat_cols = cat_cols + num_but_cat\n",
    "cat_cols = [col for col in cat_cols if col not in cat_but_car]\n",
    "\n",
    "# Bu fonksiyon hangi sınıftan kacar tane var bilgisini alsın\n",
    "# ve yüzdelik bilgilerini yazalım oranlarına ulasalım\n",
    "df[\"survived\"].value_counts()\n",
    "100 * df[\"survived\"].value_counts() / len(df)\n",
    "# Alttaki fonksiyon yukarıdaki yazılan ifadelerin fonksiyonlaştırılmıs hali\n",
    "def cat_summary(dataframe, col_name):\n",
    "    print(pd.DataFrame({col_name: dataframe[col_name].value_counts(),\n",
    "                        \"Ratio\" : 100 * dataframe[col_name].value_counts() / len(dataframe)}))\n",
    "    print(\"#\"*23)\n",
    "\n",
    "cat_summary(df,\"survived\")\n",
    "# Usttekini genelleştireceğiz o yuzden for dongusune yazıyoruz\n",
    "\n",
    "for col in cat_cols:\n",
    "    print(cat_summary(df,col))\n"
   ]
  },
  {
   "cell_type": "code",
   "execution_count": 36,
   "id": "d47e7ec5-ef04-4543-9a8f-890213b592c6",
   "metadata": {
    "tags": []
   },
   "outputs": [
    {
     "name": "stdout",
     "output_type": "stream",
     "text": [
      "      count       mean        std   min      25%      50%   75%       max\n",
      "age   714.0  29.699118  14.526497  0.42  20.1250  28.0000  38.0   80.0000\n",
      "fare  891.0  32.204208  49.693429  0.00   7.9104  14.4542  31.0  512.3292\n",
      "################################\n",
      "count    714.000000\n",
      "mean      29.699118\n",
      "std       14.526497\n",
      "min        0.420000\n",
      "25%       20.125000\n",
      "50%       28.000000\n",
      "75%       38.000000\n",
      "max       80.000000\n",
      "Name: age, dtype: float64\n",
      "********************************\n",
      "count    891.000000\n",
      "mean      32.204208\n",
      "std       49.693429\n",
      "min        0.000000\n",
      "25%        7.910400\n",
      "50%       14.454200\n",
      "75%       31.000000\n",
      "max      512.329200\n",
      "Name: fare, dtype: float64\n",
      "********************************\n",
      "count    714.000000\n",
      "mean      29.699118\n",
      "std       14.526497\n",
      "min        0.420000\n",
      "25%       20.125000\n",
      "50%       28.000000\n",
      "75%       38.000000\n",
      "max       80.000000\n",
      "Name: age, dtype: float64\n"
     ]
    },
    {
     "data": {
      "image/png": "[encoded data removed]",
      "text/plain": [
       "<Figure size 432x288 with 1 Axes>"
      ]
     },
     "metadata": {
      "needs_background": "light"
     },
     "output_type": "display_data"
    },
    {
     "name": "stdout",
     "output_type": "stream",
     "text": [
      "count    714.000000\n",
      "mean      29.699118\n",
      "std       14.526497\n",
      "min        0.420000\n",
      "25%       20.125000\n",
      "50%       28.000000\n",
      "75%       38.000000\n",
      "max       80.000000\n",
      "Name: age, dtype: float64\n"
     ]
    },
    {
     "data": {
      "image/png": "[encoded data removed]",
      "text/plain": [
       "<Figure size 432x288 with 1 Axes>"
      ]
     },
     "metadata": {
      "needs_background": "light"
     },
     "output_type": "display_data"
    },
    {
     "name": "stdout",
     "output_type": "stream",
     "text": [
      "count    891.000000\n",
      "mean      32.204208\n",
      "std       49.693429\n",
      "min        0.000000\n",
      "25%        7.910400\n",
      "50%       14.454200\n",
      "75%       31.000000\n",
      "max      512.329200\n",
      "Name: fare, dtype: float64\n"
     ]
    },
    {
     "data": {
      "image/png": "[encoded data removed]",
      "text/plain": [
       "<Figure size 432x288 with 1 Axes>"
      ]
     },
     "metadata": {
      "needs_background": "light"
     },
     "output_type": "display_data"
    }
   ],
   "source": [
    "# SAYISAL DEGİSKEN ANALIZI (Analysis of Numerical Variables)\n",
    "import numpy as np\n",
    "import pandas as pd\n",
    "import seaborn as sns\n",
    "import matplotlib.pyplot as plt\n",
    "\n",
    "df = sns.load_dataset(\"titanic\")\n",
    "\n",
    "\n",
    "cat_cols = [col for col in df.columns if str(df[col].dtypes) in [\"category\",\"object\",\"bool\"]]\n",
    "num_but_cat = [col for col in df.columns if df[col].nunique() < 10 and str(df[col].dtypes) in [\"int64\",\"float64\"]]\n",
    "cat_but_car = [col for col in df.columns if df[col].nunique() > 20 and str(df[col].dtypes) in [\"category\",\"object\"]]\n",
    "cat_cols = cat_cols + num_but_cat\n",
    "cat_cols = [col for col in cat_cols if col not in cat_but_car]\n",
    "\n",
    "\n",
    "\n",
    "num_cols = [col for col in df.columns if df[col].dtypes in [\"int64\",\"float64\"]]\n",
    "num_cols = [col for col in num_cols if col not in cat_cols]\n",
    "\n",
    "df[[\"age\",\"fare\"]].describe().T\n",
    "# Bu işlemleri her dafasında tekrar etmemek için fonksiyon yazacağız\n",
    "def num_summary(dataframe, numerical_col):\n",
    "    print(dataframe[numerical_col].describe().T)\n",
    "\n",
    "num_summary(df,num_cols)\n",
    "# new_summary fonksiyonunu her col için genelleştirme yapacagız\n",
    "print(\"#\"*32)\n",
    "for col in num_cols:\n",
    "    num_summary(df,col)\n",
    "    print(\"*\"*32)\n",
    "\n",
    "# Grafik özelligi ekleme\n",
    "def num_summary(dataframe, numerical_col,plot=False):\n",
    "    print(dataframe[numerical_col].describe().T)\n",
    "    if plot:\n",
    "        dataframe[numerical_col].hist()\n",
    "        plt.xlabel(numerical_col)\n",
    "        plt.title(numerical_col)\n",
    "        plt.show(block=True)\n",
    "\n",
    "num_summary(df,\"age\",plot=True)\n",
    "# simdi grafikleştirme islemini her col için genellestireceğiz\n",
    "for col in num_cols:\n",
    "    num_summary(df,col,plot=True)\n",
    "\n",
    "        "
   ]
  },
  {
   "cell_type": "code",
   "execution_count": 32,
   "id": "da77dd50-f320-4ea2-9466-2203f4084547",
   "metadata": {
    "collapsed": true,
    "jupyter": {
     "outputs_hidden": true
    },
    "tags": []
   },
   "outputs": [
    {
     "name": "stdout",
     "output_type": "stream",
     "text": [
      "Observations: 891\n",
      "Variable: 15\n",
      "cat_cols: 13\n",
      "num_cols: 2\n",
      "cat_but_car: 0\n",
      "num_but_cat: 4\n",
      "        sex      Ratio\n",
      "male    577  64.758698\n",
      "female  314  35.241302\n",
      "#######################\n",
      "   embarked      Ratio\n",
      "S       644  72.278339\n",
      "C       168  18.855219\n",
      "Q        77   8.641975\n",
      "#######################\n",
      "        class      Ratio\n",
      "Third     491  55.106622\n",
      "First     216  24.242424\n",
      "Second    184  20.650954\n",
      "#######################\n",
      "       who      Ratio\n",
      "man    537  60.269360\n",
      "woman  271  30.415264\n",
      "child   83   9.315376\n",
      "#######################\n",
      "       adult_male     Ratio\n",
      "True          537  60.26936\n",
      "False         354  39.73064\n",
      "#######################\n",
      "   deck     Ratio\n",
      "C    59  6.621773\n",
      "B    47  5.274972\n",
      "D    33  3.703704\n",
      "E    32  3.591470\n",
      "A    15  1.683502\n",
      "F    13  1.459035\n",
      "G     4  0.448934\n",
      "#######################\n",
      "             embark_town      Ratio\n",
      "Southampton          644  72.278339\n",
      "Cherbourg            168  18.855219\n",
      "Queenstown            77   8.641975\n",
      "#######################\n",
      "     alive      Ratio\n",
      "no     549  61.616162\n",
      "yes    342  38.383838\n",
      "#######################\n",
      "       alone     Ratio\n",
      "True     537  60.26936\n",
      "False    354  39.73064\n",
      "#######################\n",
      "   survived      Ratio\n",
      "0       549  61.616162\n",
      "1       342  38.383838\n",
      "#######################\n",
      "   pclass      Ratio\n",
      "3     491  55.106622\n",
      "1     216  24.242424\n",
      "2     184  20.650954\n",
      "#######################\n",
      "   sibsp      Ratio\n",
      "0    608  68.237935\n",
      "1    209  23.456790\n",
      "2     28   3.142536\n",
      "4     18   2.020202\n",
      "3     16   1.795735\n",
      "8      7   0.785634\n",
      "5      5   0.561167\n",
      "#######################\n",
      "   parch      Ratio\n",
      "0    678  76.094276\n",
      "1    118  13.243547\n",
      "2     80   8.978676\n",
      "5      5   0.561167\n",
      "3      5   0.561167\n",
      "4      4   0.448934\n",
      "6      1   0.112233\n",
      "#######################\n",
      "count    714.000000\n",
      "mean      29.699118\n",
      "std       14.526497\n",
      "min        0.420000\n",
      "25%       20.125000\n",
      "50%       28.000000\n",
      "75%       38.000000\n",
      "max       80.000000\n",
      "Name: age, dtype: float64\n"
     ]
    },
    {
     "data": {
      "image/png": "[encoded data removed]",
      "text/plain": [
       "<Figure size 432x288 with 1 Axes>"
      ]
     },
     "metadata": {
      "needs_background": "light"
     },
     "output_type": "display_data"
    },
    {
     "name": "stdout",
     "output_type": "stream",
     "text": [
      "count    891.000000\n",
      "mean      32.204208\n",
      "std       49.693429\n",
      "min        0.000000\n",
      "25%        7.910400\n",
      "50%       14.454200\n",
      "75%       31.000000\n",
      "max      512.329200\n",
      "Name: fare, dtype: float64\n"
     ]
    },
    {
     "data": {
      "image/png": "[encoded data removed]",
      "text/plain": [
       "<Figure size 432x288 with 1 Axes>"
      ]
     },
     "metadata": {
      "needs_background": "light"
     },
     "output_type": "display_data"
    },
    {
     "name": "stdout",
     "output_type": "stream",
     "text": [
      "<class 'pandas.core.frame.DataFrame'>\n",
      "RangeIndex: 891 entries, 0 to 890\n",
      "Data columns (total 15 columns):\n",
      " #   Column       Non-Null Count  Dtype   \n",
      "---  ------       --------------  -----   \n",
      " 0   survived     891 non-null    int64   \n",
      " 1   pclass       891 non-null    int64   \n",
      " 2   sex          891 non-null    object  \n",
      " 3   age          714 non-null    float64 \n",
      " 4   sibsp        891 non-null    int64   \n",
      " 5   parch        891 non-null    int64   \n",
      " 6   fare         891 non-null    float64 \n",
      " 7   embarked     889 non-null    object  \n",
      " 8   class        891 non-null    category\n",
      " 9   who          891 non-null    object  \n",
      " 10  adult_male   891 non-null    bool    \n",
      " 11  deck         203 non-null    category\n",
      " 12  embark_town  889 non-null    object  \n",
      " 13  alive        891 non-null    object  \n",
      " 14  alone        891 non-null    bool    \n",
      "dtypes: bool(2), category(2), float64(2), int64(4), object(5)\n",
      "memory usage: 80.7+ KB\n",
      "Observations: 891\n",
      "Variable: 15\n",
      "cat_cols: 11\n",
      "num_cols: 4\n",
      "cat_but_car: 0\n",
      "num_but_cat: 4\n",
      "        sex      Ratio\n",
      "male    577  64.758698\n",
      "female  314  35.241302\n",
      "#######################\n"
     ]
    },
    {
     "data": {
      "image/png": "[encoded data removed]",
      "text/plain": [
       "<Figure size 432x288 with 1 Axes>"
      ]
     },
     "metadata": {
      "needs_background": "light"
     },
     "output_type": "display_data"
    },
    {
     "name": "stdout",
     "output_type": "stream",
     "text": [
      "   embarked      Ratio\n",
      "S       644  72.278339\n",
      "C       168  18.855219\n",
      "Q        77   8.641975\n",
      "#######################\n"
     ]
    },
    {
     "data": {
      "image/png": "[encoded data removed]",
      "text/plain": [
       "<Figure size 432x288 with 1 Axes>"
      ]
     },
     "metadata": {
      "needs_background": "light"
     },
     "output_type": "display_data"
    },
    {
     "name": "stdout",
     "output_type": "stream",
     "text": [
      "        class      Ratio\n",
      "Third     491  55.106622\n",
      "First     216  24.242424\n",
      "Second    184  20.650954\n",
      "#######################\n"
     ]
    },
    {
     "data": {
      "image/png": "[encoded data removed]",
      "text/plain": [
       "<Figure size 432x288 with 1 Axes>"
      ]
     },
     "metadata": {
      "needs_background": "light"
     },
     "output_type": "display_data"
    },
    {
     "name": "stdout",
     "output_type": "stream",
     "text": [
      "       who      Ratio\n",
      "man    537  60.269360\n",
      "woman  271  30.415264\n",
      "child   83   9.315376\n",
      "#######################\n"
     ]
    },
    {
     "data": {
      "image/png": "[encoded data removed]",
      "text/plain": [
       "<Figure size 432x288 with 1 Axes>"
      ]
     },
     "metadata": {
      "needs_background": "light"
     },
     "output_type": "display_data"
    },
    {
     "name": "stdout",
     "output_type": "stream",
     "text": [
      "   deck     Ratio\n",
      "C    59  6.621773\n",
      "B    47  5.274972\n",
      "D    33  3.703704\n",
      "E    32  3.591470\n",
      "A    15  1.683502\n",
      "F    13  1.459035\n",
      "G     4  0.448934\n",
      "#######################\n"
     ]
    },
    {
     "data": {
      "image/png": "[encoded data removed]",
      "text/plain": [
       "<Figure size 432x288 with 1 Axes>"
      ]
     },
     "metadata": {
      "needs_background": "light"
     },
     "output_type": "display_data"
    },
    {
     "name": "stdout",
     "output_type": "stream",
     "text": [
      "             embark_town      Ratio\n",
      "Southampton          644  72.278339\n",
      "Cherbourg            168  18.855219\n",
      "Queenstown            77   8.641975\n",
      "#######################\n"
     ]
    },
    {
     "data": {
      "image/png": "[encoded data removed]",
      "text/plain": [
       "<Figure size 432x288 with 1 Axes>"
      ]
     },
     "metadata": {
      "needs_background": "light"
     },
     "output_type": "display_data"
    },
    {
     "name": "stdout",
     "output_type": "stream",
     "text": [
      "     alive      Ratio\n",
      "no     549  61.616162\n",
      "yes    342  38.383838\n",
      "#######################\n"
     ]
    },
    {
     "data": {
      "image/png": "[encoded data removed]",
      "text/plain": [
       "<Figure size 432x288 with 1 Axes>"
      ]
     },
     "metadata": {
      "needs_background": "light"
     },
     "output_type": "display_data"
    },
    {
     "name": "stdout",
     "output_type": "stream",
     "text": [
      "   survived      Ratio\n",
      "0       549  61.616162\n",
      "1       342  38.383838\n",
      "#######################\n"
     ]
    },
    {
     "data": {
      "image/png": "[encoded data removed]",
      "text/plain": [
       "<Figure size 432x288 with 1 Axes>"
      ]
     },
     "metadata": {
      "needs_background": "light"
     },
     "output_type": "display_data"
    },
    {
     "name": "stdout",
     "output_type": "stream",
     "text": [
      "   pclass      Ratio\n",
      "3     491  55.106622\n",
      "1     216  24.242424\n",
      "2     184  20.650954\n",
      "#######################\n"
     ]
    },
    {
     "data": {
      "image/png": "[encoded data removed]",
      "text/plain": [
       "<Figure size 432x288 with 1 Axes>"
      ]
     },
     "metadata": {
      "needs_background": "light"
     },
     "output_type": "display_data"
    },
    {
     "name": "stdout",
     "output_type": "stream",
     "text": [
      "   sibsp      Ratio\n",
      "0    608  68.237935\n",
      "1    209  23.456790\n",
      "2     28   3.142536\n",
      "4     18   2.020202\n",
      "3     16   1.795735\n",
      "8      7   0.785634\n",
      "5      5   0.561167\n",
      "#######################\n"
     ]
    },
    {
     "data": {
      "image/png": "[encoded data removed]",
      "text/plain": [
       "<Figure size 432x288 with 1 Axes>"
      ]
     },
     "metadata": {
      "needs_background": "light"
     },
     "output_type": "display_data"
    },
    {
     "name": "stdout",
     "output_type": "stream",
     "text": [
      "   parch      Ratio\n",
      "0    678  76.094276\n",
      "1    118  13.243547\n",
      "2     80   8.978676\n",
      "5      5   0.561167\n",
      "3      5   0.561167\n",
      "4      4   0.448934\n",
      "6      1   0.112233\n",
      "#######################\n"
     ]
    },
    {
     "data": {
      "image/png": "[encoded data removed]",
      "text/plain": [
       "<Figure size 432x288 with 1 Axes>"
      ]
     },
     "metadata": {
      "needs_background": "light"
     },
     "output_type": "display_data"
    }
   ],
   "source": [
    "# Değişkenlerin Yakalanması\n",
    "import numpy as np\n",
    "import pandas as pd\n",
    "import seaborn as sns\n",
    "import matplotlib.pyplot as plt\n",
    "\n",
    "df = sns.load_dataset(\"titanic\")\n",
    "\n",
    "\n",
    "def grab_col_names(dataframe,cat_th=10, car_th=20):\n",
    "    \"\"\"\n",
    "    #Doctstring\n",
    "    Veri setinde kategorik,numerik ve kategorik kardinal değişkenlerin isimlerini verir.\n",
    "    \n",
    "    Parameters\n",
    "    ----------\n",
    "    dataframe: dataframe\n",
    "        değişken isimleri alınmak istenen dataframe'dir.\n",
    "    cat_th: int,float\n",
    "        numerik fakat kategorik olan değişkenler için sınıf eşik değeri\n",
    "    car_th: int,float\n",
    "        kategorik fakat kardinal olan değişkenler için sınıf eşik değeri\n",
    "    Returns\n",
    "    -------\n",
    "    cat_cols: list\n",
    "        Kategorik değişken listesi\n",
    "    num_cols: list\n",
    "        Numerik değişken listesi\n",
    "    cat_but_car: list\n",
    "        Kategorik görüntülü kardinal değişken listesi\n",
    "    \n",
    "    # Note ? grab_col_names ya da help(grab_col_names)  yazarak doctstring ulasabılırsın\n",
    "    \"\"\"\n",
    "    cat_cols = [col for col in df.columns if str(df[col].dtypes) in [\"category\",\"object\",\"bool\"]]\n",
    "    num_but_cat = [col for col in df.columns if df[col].nunique() < 10 and str(df[col].dtypes) in [\"int64\",\"float64\"]]\n",
    "    cat_but_car = [col for col in df.columns if df[col].nunique() > 20 and str(df[col].dtypes) in [\"category\",\"object\"]]\n",
    "    cat_cols = cat_cols + num_but_cat\n",
    "    cat_cols = [col for col in cat_cols if col not in cat_but_car]\n",
    "    num_cols = [col for col in df.columns if df[col].dtypes in [\"float\",\"int\"]]\n",
    "    num_cols = [col for col in num_cols if col not in cat_cols]\n",
    "    \n",
    "    print(f\"Observations: {dataframe.shape[0]}\")\n",
    "    print(f\"Variable: {dataframe.shape[1]}\")\n",
    "    print(f\"cat_cols: {len(cat_cols)}\")\n",
    "    print(f\"num_cols: {len(num_cols)}\")\n",
    "    print(f\"cat_but_car: {len(cat_but_car)}\")\n",
    "    print(f\"num_but_cat: {len(num_but_cat)}\")\n",
    "\n",
    "    return cat_cols, num_cols, cat_but_car\n",
    "\n",
    "cat_cols, num_cols, cat_but_car = grab_col_names(df)\n",
    "\n",
    "def cat_summary(dataframe, col_name):\n",
    "    print(pd.DataFrame({col_name: dataframe[col_name].value_counts(),\n",
    "                        \"Ratio\" : 100 * dataframe[col_name].value_counts() / len(dataframe)}))\n",
    "    print(\"#\"*23)\n",
    "\n",
    "for col in cat_cols:\n",
    "    cat_summary(df,col)\n",
    "\n",
    "def num_summary(dataframe, numerical_col,plot=False):\n",
    "    print(dataframe[numerical_col].describe().T)\n",
    "    if plot:\n",
    "        dataframe[numerical_col].hist()\n",
    "        plt.xlabel(numerical_col)\n",
    "        plt.title(numerical_col)\n",
    "        plt.show(block=True)\n",
    "\n",
    "for col in num_cols:\n",
    "    num_summary(df,col,plot= True)\n",
    "    \n",
    "# Bonus Categorical değişkenler için tablolu çıktı\n",
    "df = sns.load_dataset(\"titanic\")\n",
    "df.info()\n",
    "\n",
    "# Bool değişkenleri int çevirme\n",
    "for col in df.columns:\n",
    "    if df[col].dtypes == \"bool\":\n",
    "        df[col] = df[col].astype(int)\n",
    "\n",
    "cat_cols, num_cols, cat_but_car = grab_col_names(df)\n",
    "\n",
    "def cat_summary(dataframe, col_name,plot = False):\n",
    "    print(pd.DataFrame({col_name: dataframe[col_name].value_counts(),\n",
    "                        \"Ratio\" : 100 * dataframe[col_name].value_counts() / len(dataframe)}))\n",
    "    print(\"#\"*23)\n",
    "    \n",
    "    # if plot: demek if plot true ise\n",
    "    if plot:\n",
    "        sns.countplot(x=dataframe[col_name],data=dataframe)\n",
    "        plt.show(block=True)\n",
    "for col in cat_cols:\n",
    "    cat_summary(df,col,plot=True)"
   ]
  },
  {
   "cell_type": "code",
   "execution_count": 21,
   "id": "0e1ded8d-9981-480f-9e53-83895133d115",
   "metadata": {
    "collapsed": true,
    "jupyter": {
     "outputs_hidden": true
    },
    "tags": []
   },
   "outputs": [
    {
     "name": "stdout",
     "output_type": "stream",
     "text": [
      "Observations: 891\n",
      "Variable: 15\n",
      "cat_cols: 11\n",
      "num_cols: 4\n",
      "cat_but_car: 0\n",
      "num_but_cat: 4\n",
      "\n",
      "Hedef Değişken Kategorik Değişkenler ile Analizi\n",
      "        TARGET_MEAN\n",
      "sex                \n",
      "female     0.742038\n",
      "male       0.188908\n",
      "        TARGET_MEAN\n",
      "sex                \n",
      "female     0.742038\n",
      "male       0.188908\n",
      "          TARGET_MEAN\n",
      "embarked             \n",
      "C            0.553571\n",
      "Q            0.389610\n",
      "S            0.336957\n",
      "        TARGET_MEAN\n",
      "class              \n",
      "First      0.629630\n",
      "Second     0.472826\n",
      "Third      0.242363\n",
      "       TARGET_MEAN\n",
      "who               \n",
      "child     0.590361\n",
      "man       0.163873\n",
      "woman     0.756458\n",
      "      TARGET_MEAN\n",
      "deck             \n",
      "A        0.466667\n",
      "B        0.744681\n",
      "C        0.593220\n",
      "D        0.757576\n",
      "E        0.750000\n",
      "F        0.615385\n",
      "G        0.500000\n",
      "             TARGET_MEAN\n",
      "embark_town             \n",
      "Cherbourg       0.553571\n",
      "Queenstown      0.389610\n",
      "Southampton     0.336957\n",
      "       TARGET_MEAN\n",
      "alive             \n",
      "no             0.0\n",
      "yes            1.0\n",
      "          TARGET_MEAN\n",
      "survived             \n",
      "0                 0.0\n",
      "1                 1.0\n",
      "        TARGET_MEAN\n",
      "pclass             \n",
      "1          0.629630\n",
      "2          0.472826\n",
      "3          0.242363\n",
      "       TARGET_MEAN\n",
      "sibsp             \n",
      "0         0.345395\n",
      "1         0.535885\n",
      "2         0.464286\n",
      "3         0.250000\n",
      "4         0.166667\n",
      "5         0.000000\n",
      "8         0.000000\n",
      "       TARGET_MEAN\n",
      "parch             \n",
      "0         0.343658\n",
      "1         0.550847\n",
      "2         0.500000\n",
      "3         0.600000\n",
      "4         0.000000\n",
      "5         0.200000\n",
      "6         0.000000\n",
      "################################\n",
      "Hedef Değişkenin Sayısal Değişkenler ile Analizi\n",
      "                age\n",
      "survived           \n",
      "0         30.626179\n",
      "1         28.343690\n",
      "\n",
      "\n",
      "                age\n",
      "survived           \n",
      "0         30.626179\n",
      "1         28.343690\n",
      "\n",
      "\n",
      "               fare\n",
      "survived           \n",
      "0         22.117887\n",
      "1         48.395408\n",
      "\n",
      "\n",
      "          adult_male\n",
      "survived            \n",
      "0           0.817851\n",
      "1           0.257310\n",
      "\n",
      "\n",
      "             alone\n",
      "survived          \n",
      "0         0.681239\n",
      "1         0.476608\n",
      "\n",
      "\n"
     ]
    }
   ],
   "source": [
    "# Hedef Değişken Analizi (Analysis of Target Variable)\n",
    "import numpy as np\n",
    "import pandas as pd\n",
    "import seaborn as sns\n",
    "import matplotlib.pyplot as plt\n",
    "\n",
    "df = sns.load_dataset(\"titanic\")\n",
    "\n",
    "# Bool değişkenleri int çeviriyoruz yes/no 1/0 oluyor\n",
    "\n",
    "for col in df.columns:\n",
    "    if df[col].dtypes == \"bool\":\n",
    "        df[col] = df[col].astype(int)\n",
    "\n",
    "# Önceden tanımlamış fonksiyon\n",
    "def grab_col_names(dataframe,cat_th=10, car_th=20):\n",
    "    \"\"\"\n",
    "    #Doctstring\n",
    "    Veri setinde kategorik,numerik ve kategorik kardinal değişkenlerin isimlerini verir.\n",
    "    \n",
    "    Parameters\n",
    "    ----------\n",
    "    dataframe: dataframe\n",
    "        değişken isimleri alınmak istenen dataframe'dir.\n",
    "    cat_th: int,float\n",
    "        numerik fakat kategorik olan değişkenler için sınıf eşik değeri\n",
    "    car_th: int,float\n",
    "        kategorik fakat kardinal olan değişkenler için sınıf eşik değeri\n",
    "    Returns\n",
    "    -------\n",
    "    cat_cols: list\n",
    "        Kategorik değişken listesi\n",
    "    num_cols: list\n",
    "        Numerik değişken listesi\n",
    "    cat_but_car: list\n",
    "        Kategorik görüntülü kardinal değişken listesi\n",
    "    \n",
    "    # Note ? grab_col_names ya da help(grab_col_names)  yazarak doctstring ulasabılırsın\n",
    "    \"\"\"\n",
    "    cat_cols = [col for col in df.columns if str(df[col].dtypes) in [\"category\",\"object\",\"bool\"]]\n",
    "    num_but_cat = [col for col in df.columns if df[col].nunique() < 10 and str(df[col].dtypes) in [\"int64\",\"float64\"]]\n",
    "    cat_but_car = [col for col in df.columns if df[col].nunique() > 20 and str(df[col].dtypes) in [\"category\",\"object\"]]\n",
    "    cat_cols = cat_cols + num_but_cat\n",
    "    cat_cols = [col for col in cat_cols if col not in cat_but_car]\n",
    "    num_cols = [col for col in df.columns if df[col].dtypes in [\"float\",\"int\"]]\n",
    "    num_cols = [col for col in num_cols if col not in cat_cols]\n",
    "    \n",
    "    print(f\"Observations: {dataframe.shape[0]}\")\n",
    "    print(f\"Variable: {dataframe.shape[1]}\")\n",
    "    print(f\"cat_cols: {len(cat_cols)}\")\n",
    "    print(f\"num_cols: {len(num_cols)}\")\n",
    "    print(f\"cat_but_car: {len(cat_but_car)}\")\n",
    "    print(f\"num_but_cat: {len(num_but_cat)}\")\n",
    "\n",
    "    return cat_cols, num_cols, cat_but_car\n",
    "\n",
    "cat_cols, num_cols, cat_but_car = grab_col_names(df)\n",
    "\n",
    "# Hedef Değişken Kategorik Değişkenler ile Analizi\n",
    "# Çarprazlama Yapıcaz\n",
    "\n",
    "print(\"\\nHedef Değişken Kategorik Değişkenler ile Analizi\")\n",
    "\n",
    "# Kategorik değişken için yaptık. Burada survived hedef değişken\n",
    "# kadın veya erkek olma durumunu yaşama durumuna göre yorumlayabilirz\n",
    "#df.groupby(\"sex\")[\"survived\"].mean() alttakıyle aynı\n",
    "df.groupby(\"sex\").agg({\"survived\":\"mean\"})\n",
    "\n",
    "# Üsttekini genelleştirip fonk. yazacağız\n",
    "\n",
    "def target_summary_with_cat(dataframe,target, categorical_col):\n",
    "    print(pd.DataFrame({\"TARGET_MEAN\": dataframe.groupby(categorical_col)[target].mean()}))\n",
    "\n",
    "target_summary_with_cat(df,\"survived\",\"sex\")\n",
    "    \n",
    "# for ile bütün columnlara bu fonk uygulayacağız\n",
    "\n",
    "for col in cat_cols:\n",
    "    target_summary_with_cat(df,\"survived\",col)\n",
    "\n",
    "\n",
    "print(\"#\"*32)\n",
    "print(\"Hedef Değişkenin Sayısal Değişkenler ile Analizi\")\n",
    "# Hedef Değişkenin Sayısal Değişkenler ile Analizi\n",
    "\n",
    "# Survived(target) değişkenin age göre hayatta kalma durumu\n",
    "df.groupby(\"survived\")[\"age\"].mean()\n",
    "#df.groupby(\"survived\").agg({\"age\":\"mean\"})\n",
    "\n",
    "def target_summary_with_num(dataframe,target,numerical_col):\n",
    "    print(dataframe.groupby(target).agg({numerical_col:\"mean\"}),end=\"\\n\\n\\n\")\n",
    "    \n",
    "target_summary_with_num(df,\"survived\",\"age\")\n",
    "\n",
    "for col in num_cols:\n",
    "    target_summary_with_num(df,\"survived\",col)\n",
    "    \n"
   ]
  },
  {
   "cell_type": "code",
   "execution_count": 16,
   "id": "7a3befee-6c9c-4eac-9c8d-707bc374e82b",
   "metadata": {
    "collapsed": true,
    "jupyter": {
     "outputs_hidden": true
    },
    "tags": []
   },
   "outputs": [
    {
     "data": {
      "image/png": "[encoded data removed]",
      "text/plain": [
       "<Figure size 864x864 with 2 Axes>"
      ]
     },
     "metadata": {},
     "output_type": "display_data"
    },
    {
     "name": "stderr",
     "output_type": "stream",
     "text": [
      "C:\\Users\\bhrak\\AppData\\Local\\Temp\\ipykernel_64368\\1096069409.py:23: DeprecationWarning: `np.bool` is a deprecated alias for the builtin `bool`. To silence this warning, use `bool` by itself. Doing this will not modify any behavior and is safe. If you specifically wanted the numpy scalar type, use `np.bool_` here.\n",
      "Deprecated in NumPy 1.20; for more details and guidance: https://numpy.org/devdocs/release/1.20.0-notes.html#deprecations\n",
      "  upper_triangle_matrix = cor_matrix.where(np.triu(np.ones(cor_matrix.shape),k=1).astype(np.bool))\n",
      "C:\\Users\\bhrak\\AppData\\Local\\Temp\\ipykernel_64368\\1096069409.py:32: DeprecationWarning: `np.bool` is a deprecated alias for the builtin `bool`. To silence this warning, use `bool` by itself. Doing this will not modify any behavior and is safe. If you specifically wanted the numpy scalar type, use `np.bool_` here.\n",
      "Deprecated in NumPy 1.20; for more details and guidance: https://numpy.org/devdocs/release/1.20.0-notes.html#deprecations\n",
      "  upper_triangle_matrix = cor_matrix.where(np.triu(np.ones(cor_matrix.shape),k=1).astype(np.bool))\n"
     ]
    },
    {
     "data": {
      "image/png": "[encoded data removed]",
      "text/plain": [
       "<Figure size 1080x1080 with 2 Axes>"
      ]
     },
     "metadata": {},
     "output_type": "display_data"
    },
    {
     "name": "stderr",
     "output_type": "stream",
     "text": [
      "C:\\Users\\bhrak\\AppData\\Local\\Temp\\ipykernel_64368\\1096069409.py:32: DeprecationWarning: `np.bool` is a deprecated alias for the builtin `bool`. To silence this warning, use `bool` by itself. Doing this will not modify any behavior and is safe. If you specifically wanted the numpy scalar type, use `np.bool_` here.\n",
      "Deprecated in NumPy 1.20; for more details and guidance: https://numpy.org/devdocs/release/1.20.0-notes.html#deprecations\n",
      "  upper_triangle_matrix = cor_matrix.where(np.triu(np.ones(cor_matrix.shape),k=1).astype(np.bool))\n"
     ]
    },
    {
     "data": {
      "image/png": "[encoded data removed]",
      "text/plain": [
       "<Figure size 1080x1080 with 2 Axes>"
      ]
     },
     "metadata": {},
     "output_type": "display_data"
    },
    {
     "data": {
      "text/plain": [
       "[]"
      ]
     },
     "execution_count": 16,
     "metadata": {},
     "output_type": "execute_result"
    }
   ],
   "source": [
    "# Korelasyon Analizi (Analysis of Correlation)\n",
    "import numpy as np\n",
    "import pandas as pd\n",
    "import seaborn as sns\n",
    "import matplotlib.pyplot as plt\n",
    "\n",
    "df = pd.read_csv(\"corealtion.csv\")\n",
    "df = df.iloc[:,1:-1]\n",
    "df.head()\n",
    "\n",
    "num_cols = [col for col in df.columns if df[col].dtype in [int,float]]\n",
    "\n",
    "corr = df[num_cols].corr()\n",
    "\n",
    "sns.set(rc={\"figure.figsize\":(12,12)})\n",
    "sns.heatmap(corr,cmap=\"RdBu\")\n",
    "plt.show()\n",
    "\n",
    "# Yüksek Korelasyonlu Değişkenlerin Silinmesi\n",
    "\n",
    "cor_matrix = df.corr().abs()\n",
    "\n",
    "upper_triangle_matrix = cor_matrix.where(np.triu(np.ones(cor_matrix.shape),k=1).astype(np.bool))\n",
    "drop_list = [col for col in upper_triangle_matrix.columns if any(upper_triangle_matrix[col] > 0.90) ]\n",
    "\n",
    "#Burada siliniyor ve bunuda fonksiyonlaştıracağız \n",
    "df.drop(drop_list,axis=1)\n",
    "\n",
    "def high_correlated_cols(dataframe,plot=False,corr_th = 0.90):\n",
    "    corr = dataframe.corr()\n",
    "    corr_matrix = corr.abs()\n",
    "    upper_triangle_matrix = cor_matrix.where(np.triu(np.ones(cor_matrix.shape),k=1).astype(np.bool))\n",
    "    drop_list = [col for col in upper_triangle_matrix.columns if any(upper_triangle_matrix[col] > corr_th) ]\n",
    "    if plot:\n",
    "        import seaborn as sns\n",
    "        import matplotlib.pyplot as plt\n",
    "        sns.set(rc={'figure.figsize': (15,15)})\n",
    "        sns.heatmap(corr,cmap=\"RdBu\")\n",
    "        plt.show()\n",
    "    return drop_list\n",
    "\n",
    "high_correlated_cols(df)\n",
    "drop_list = high_correlated_cols(df,plot=True)\n",
    "df.drop(drop_list,axis=1)\n",
    "high_correlated_cols(df.drop(drop_list,axis=1),plot=True)"
   ]
  },
  {
   "cell_type": "code",
   "execution_count": 32,
   "id": "3594dfbf-0ec7-4623-9b8a-d2d5630d15c8",
   "metadata": {
    "collapsed": true,
    "jupyter": {
     "outputs_hidden": true
    },
    "tags": []
   },
   "outputs": [
    {
     "name": "stdout",
     "output_type": "stream",
     "text": [
      "   survived\n",
      "0       549\n",
      "1       342\n"
     ]
    },
    {
     "data": {
      "image/png": "[encoded data removed]",
      "text/plain": [
       "<Figure size 432x288 with 1 Axes>"
      ]
     },
     "metadata": {
      "needs_background": "light"
     },
     "output_type": "display_data"
    },
    {
     "name": "stdout",
     "output_type": "stream",
     "text": [
      "***********************\n",
      "None\n",
      "   pclass\n",
      "3     491\n",
      "1     216\n",
      "2     184\n"
     ]
    },
    {
     "data": {
      "image/png": "[encoded data removed]",
      "text/plain": [
       "<Figure size 432x288 with 1 Axes>"
      ]
     },
     "metadata": {
      "needs_background": "light"
     },
     "output_type": "display_data"
    },
    {
     "name": "stdout",
     "output_type": "stream",
     "text": [
      "***********************\n",
      "None\n",
      "        sex\n",
      "male    577\n",
      "female  314\n"
     ]
    },
    {
     "data": {
      "image/png": "[encoded data removed]",
      "text/plain": [
       "<Figure size 432x288 with 1 Axes>"
      ]
     },
     "metadata": {
      "needs_background": "light"
     },
     "output_type": "display_data"
    },
    {
     "name": "stdout",
     "output_type": "stream",
     "text": [
      "***********************\n",
      "None\n",
      "       age\n",
      "24.00   30\n",
      "22.00   27\n",
      "18.00   26\n",
      "19.00   25\n",
      "28.00   25\n",
      "...    ...\n",
      "36.50    1\n",
      "55.50    1\n",
      "0.92     1\n",
      "23.50    1\n",
      "74.00    1\n",
      "\n",
      "[88 rows x 1 columns]\n"
     ]
    },
    {
     "data": {
      "image/png": "[encoded data removed]",
      "text/plain": [
       "<Figure size 432x288 with 1 Axes>"
      ]
     },
     "metadata": {
      "needs_background": "light"
     },
     "output_type": "display_data"
    },
    {
     "name": "stdout",
     "output_type": "stream",
     "text": [
      "***********************\n",
      "None\n",
      "   sibsp\n",
      "0    608\n",
      "1    209\n",
      "2     28\n",
      "4     18\n",
      "3     16\n",
      "8      7\n",
      "5      5\n"
     ]
    },
    {
     "data": {
      "image/png": "[encoded data removed]",
      "text/plain": [
       "<Figure size 432x288 with 1 Axes>"
      ]
     },
     "metadata": {
      "needs_background": "light"
     },
     "output_type": "display_data"
    },
    {
     "name": "stdout",
     "output_type": "stream",
     "text": [
      "***********************\n",
      "None\n",
      "   parch\n",
      "0    678\n",
      "1    118\n",
      "2     80\n",
      "5      5\n",
      "3      5\n",
      "4      4\n",
      "6      1\n"
     ]
    },
    {
     "data": {
      "image/png": "[encoded data removed]",
      "text/plain": [
       "<Figure size 432x288 with 1 Axes>"
      ]
     },
     "metadata": {
      "needs_background": "light"
     },
     "output_type": "display_data"
    },
    {
     "name": "stdout",
     "output_type": "stream",
     "text": [
      "***********************\n",
      "None\n",
      "         fare\n",
      "8.0500     43\n",
      "13.0000    42\n",
      "7.8958     38\n",
      "7.7500     34\n",
      "26.0000    31\n",
      "...       ...\n",
      "35.0000     1\n",
      "28.5000     1\n",
      "6.2375      1\n",
      "14.0000     1\n",
      "10.5167     1\n",
      "\n",
      "[248 rows x 1 columns]\n"
     ]
    },
    {
     "data": {
      "image/png": "[encoded data removed]",
      "text/plain": [
       "<Figure size 432x288 with 1 Axes>"
      ]
     },
     "metadata": {
      "needs_background": "light"
     },
     "output_type": "display_data"
    },
    {
     "name": "stdout",
     "output_type": "stream",
     "text": [
      "***********************\n",
      "None\n",
      "   embarked\n",
      "S       644\n",
      "C       168\n",
      "Q        77\n"
     ]
    },
    {
     "data": {
      "image/png": "[encoded data removed]",
      "text/plain": [
       "<Figure size 432x288 with 1 Axes>"
      ]
     },
     "metadata": {
      "needs_background": "light"
     },
     "output_type": "display_data"
    },
    {
     "name": "stdout",
     "output_type": "stream",
     "text": [
      "***********************\n",
      "None\n",
      "        class\n",
      "Third     491\n",
      "First     216\n",
      "Second    184\n"
     ]
    },
    {
     "data": {
      "image/png": "[encoded data removed]",
      "text/plain": [
       "<Figure size 432x288 with 1 Axes>"
      ]
     },
     "metadata": {
      "needs_background": "light"
     },
     "output_type": "display_data"
    },
    {
     "name": "stdout",
     "output_type": "stream",
     "text": [
      "***********************\n",
      "None\n",
      "       who\n",
      "man    537\n",
      "woman  271\n",
      "child   83\n"
     ]
    },
    {
     "data": {
      "image/png": "[encoded data removed]",
      "text/plain": [
       "<Figure size 432x288 with 1 Axes>"
      ]
     },
     "metadata": {
      "needs_background": "light"
     },
     "output_type": "display_data"
    },
    {
     "name": "stdout",
     "output_type": "stream",
     "text": [
      "***********************\n",
      "None\n",
      "       adult_male\n",
      "True          537\n",
      "False         354\n"
     ]
    },
    {
     "ename": "ValueError",
     "evalue": "The truth value of a Series is ambiguous. Use a.empty, a.bool(), a.item(), a.any() or a.all().",
     "output_type": "error",
     "traceback": [
      "\u001b[1;31m---------------------------------------------------------------------------\u001b[0m",
      "\u001b[1;31mValueError\u001b[0m                                Traceback (most recent call last)",
      "Input \u001b[1;32mIn [32]\u001b[0m, in \u001b[0;36m<cell line: 46>\u001b[1;34m()\u001b[0m\n\u001b[0;32m     44\u001b[0m     \u001b[38;5;28mprint\u001b[39m(\u001b[38;5;124m\"\u001b[39m\u001b[38;5;124m*\u001b[39m\u001b[38;5;124m\"\u001b[39m\u001b[38;5;241m*\u001b[39m\u001b[38;5;241m23\u001b[39m)\n\u001b[0;32m     46\u001b[0m \u001b[38;5;28;01mfor\u001b[39;00m col \u001b[38;5;129;01min\u001b[39;00m cat_col:\n\u001b[1;32m---> 47\u001b[0m     \u001b[38;5;28mprint\u001b[39m(\u001b[43mcat_summary\u001b[49m\u001b[43m(\u001b[49m\u001b[43mdf\u001b[49m\u001b[43m,\u001b[49m\u001b[43mcol\u001b[49m\u001b[43m,\u001b[49m\u001b[43mplot\u001b[49m\u001b[38;5;241;43m=\u001b[39;49m\u001b[43m \u001b[49m\u001b[38;5;28;43;01mTrue\u001b[39;49;00m\u001b[43m)\u001b[49m)\n\u001b[0;32m     50\u001b[0m \u001b[38;5;28;01mdef\u001b[39;00m \u001b[38;5;21mcheck_df\u001b[39m(dataframe,head\u001b[38;5;241m=\u001b[39m\u001b[38;5;241m5\u001b[39m):\n\u001b[0;32m     51\u001b[0m     \u001b[38;5;124;03m\"\"\"\u001b[39;00m\n\u001b[0;32m     52\u001b[0m \u001b[38;5;124;03m    Veri setinin istenilen fonksiyonların bilgilerini verir.\u001b[39;00m\n\u001b[0;32m     53\u001b[0m \u001b[38;5;124;03m    \u001b[39;00m\n\u001b[1;32m   (...)\u001b[0m\n\u001b[0;32m     62\u001b[0m \u001b[38;5;124;03m    \u001b[39;00m\n\u001b[0;32m     63\u001b[0m \u001b[38;5;124;03m    \"\"\"\u001b[39;00m\n",
      "Input \u001b[1;32mIn [32]\u001b[0m, in \u001b[0;36mcat_summary\u001b[1;34m(dataframe, col_name, plot)\u001b[0m\n\u001b[0;32m     39\u001b[0m \u001b[38;5;28mprint\u001b[39m(pd\u001b[38;5;241m.\u001b[39mDataFrame({\n\u001b[0;32m     40\u001b[0m col_name: dataframe[col_name]\u001b[38;5;241m.\u001b[39mvalue_counts(),}))\n\u001b[0;32m     41\u001b[0m \u001b[38;5;28;01mif\u001b[39;00m plot:\n\u001b[1;32m---> 42\u001b[0m     \u001b[43msns\u001b[49m\u001b[38;5;241;43m.\u001b[39;49m\u001b[43mcountplot\u001b[49m\u001b[43m(\u001b[49m\u001b[43mx\u001b[49m\u001b[38;5;241;43m=\u001b[39;49m\u001b[43mdataframe\u001b[49m\u001b[43m[\u001b[49m\u001b[43mcol_name\u001b[49m\u001b[43m]\u001b[49m\u001b[43m,\u001b[49m\u001b[43mdata\u001b[49m\u001b[38;5;241;43m=\u001b[39;49m\u001b[43m \u001b[49m\u001b[43mdataframe\u001b[49m\u001b[43m)\u001b[49m\n\u001b[0;32m     43\u001b[0m     plt\u001b[38;5;241m.\u001b[39mshow()\n\u001b[0;32m     44\u001b[0m \u001b[38;5;28mprint\u001b[39m(\u001b[38;5;124m\"\u001b[39m\u001b[38;5;124m*\u001b[39m\u001b[38;5;124m\"\u001b[39m\u001b[38;5;241m*\u001b[39m\u001b[38;5;241m23\u001b[39m)\n",
      "File \u001b[1;32m~\\anaconda3\\lib\\site-packages\\seaborn\\_decorators.py:46\u001b[0m, in \u001b[0;36m_deprecate_positional_args.<locals>.inner_f\u001b[1;34m(*args, **kwargs)\u001b[0m\n\u001b[0;32m     36\u001b[0m     warnings\u001b[38;5;241m.\u001b[39mwarn(\n\u001b[0;32m     37\u001b[0m         \u001b[38;5;124m\"\u001b[39m\u001b[38;5;124mPass the following variable\u001b[39m\u001b[38;5;132;01m{}\u001b[39;00m\u001b[38;5;124m as \u001b[39m\u001b[38;5;132;01m{}\u001b[39;00m\u001b[38;5;124mkeyword arg\u001b[39m\u001b[38;5;132;01m{}\u001b[39;00m\u001b[38;5;124m: \u001b[39m\u001b[38;5;132;01m{}\u001b[39;00m\u001b[38;5;124m. \u001b[39m\u001b[38;5;124m\"\u001b[39m\n\u001b[0;32m     38\u001b[0m         \u001b[38;5;124m\"\u001b[39m\u001b[38;5;124mFrom version 0.12, the only valid positional argument \u001b[39m\u001b[38;5;124m\"\u001b[39m\n\u001b[1;32m   (...)\u001b[0m\n\u001b[0;32m     43\u001b[0m         \u001b[38;5;167;01mFutureWarning\u001b[39;00m\n\u001b[0;32m     44\u001b[0m     )\n\u001b[0;32m     45\u001b[0m kwargs\u001b[38;5;241m.\u001b[39mupdate({k: arg \u001b[38;5;28;01mfor\u001b[39;00m k, arg \u001b[38;5;129;01min\u001b[39;00m \u001b[38;5;28mzip\u001b[39m(sig\u001b[38;5;241m.\u001b[39mparameters, args)})\n\u001b[1;32m---> 46\u001b[0m \u001b[38;5;28;01mreturn\u001b[39;00m f(\u001b[38;5;241m*\u001b[39m\u001b[38;5;241m*\u001b[39mkwargs)\n",
      "File \u001b[1;32m~\\anaconda3\\lib\\site-packages\\seaborn\\categorical.py:3598\u001b[0m, in \u001b[0;36mcountplot\u001b[1;34m(x, y, hue, data, order, hue_order, orient, color, palette, saturation, dodge, ax, **kwargs)\u001b[0m\n\u001b[0;32m   3595\u001b[0m \u001b[38;5;28;01melif\u001b[39;00m x \u001b[38;5;129;01mis\u001b[39;00m \u001b[38;5;129;01mnot\u001b[39;00m \u001b[38;5;28;01mNone\u001b[39;00m \u001b[38;5;129;01mand\u001b[39;00m y \u001b[38;5;129;01mis\u001b[39;00m \u001b[38;5;129;01mnot\u001b[39;00m \u001b[38;5;28;01mNone\u001b[39;00m:\n\u001b[0;32m   3596\u001b[0m     \u001b[38;5;28;01mraise\u001b[39;00m \u001b[38;5;167;01mValueError\u001b[39;00m(\u001b[38;5;124m\"\u001b[39m\u001b[38;5;124mCannot pass values for both `x` and `y`\u001b[39m\u001b[38;5;124m\"\u001b[39m)\n\u001b[1;32m-> 3598\u001b[0m plotter \u001b[38;5;241m=\u001b[39m \u001b[43m_CountPlotter\u001b[49m\u001b[43m(\u001b[49m\n\u001b[0;32m   3599\u001b[0m \u001b[43m    \u001b[49m\u001b[43mx\u001b[49m\u001b[43m,\u001b[49m\u001b[43m \u001b[49m\u001b[43my\u001b[49m\u001b[43m,\u001b[49m\u001b[43m \u001b[49m\u001b[43mhue\u001b[49m\u001b[43m,\u001b[49m\u001b[43m \u001b[49m\u001b[43mdata\u001b[49m\u001b[43m,\u001b[49m\u001b[43m \u001b[49m\u001b[43morder\u001b[49m\u001b[43m,\u001b[49m\u001b[43m \u001b[49m\u001b[43mhue_order\u001b[49m\u001b[43m,\u001b[49m\n\u001b[0;32m   3600\u001b[0m \u001b[43m    \u001b[49m\u001b[43mestimator\u001b[49m\u001b[43m,\u001b[49m\u001b[43m \u001b[49m\u001b[43mci\u001b[49m\u001b[43m,\u001b[49m\u001b[43m \u001b[49m\u001b[43mn_boot\u001b[49m\u001b[43m,\u001b[49m\u001b[43m \u001b[49m\u001b[43munits\u001b[49m\u001b[43m,\u001b[49m\u001b[43m \u001b[49m\u001b[43mseed\u001b[49m\u001b[43m,\u001b[49m\n\u001b[0;32m   3601\u001b[0m \u001b[43m    \u001b[49m\u001b[43morient\u001b[49m\u001b[43m,\u001b[49m\u001b[43m \u001b[49m\u001b[43mcolor\u001b[49m\u001b[43m,\u001b[49m\u001b[43m \u001b[49m\u001b[43mpalette\u001b[49m\u001b[43m,\u001b[49m\u001b[43m \u001b[49m\u001b[43msaturation\u001b[49m\u001b[43m,\u001b[49m\n\u001b[0;32m   3602\u001b[0m \u001b[43m    \u001b[49m\u001b[43merrcolor\u001b[49m\u001b[43m,\u001b[49m\u001b[43m \u001b[49m\u001b[43merrwidth\u001b[49m\u001b[43m,\u001b[49m\u001b[43m \u001b[49m\u001b[43mcapsize\u001b[49m\u001b[43m,\u001b[49m\u001b[43m \u001b[49m\u001b[43mdodge\u001b[49m\n\u001b[0;32m   3603\u001b[0m \u001b[43m\u001b[49m\u001b[43m)\u001b[49m\n\u001b[0;32m   3605\u001b[0m plotter\u001b[38;5;241m.\u001b[39mvalue_label \u001b[38;5;241m=\u001b[39m \u001b[38;5;124m\"\u001b[39m\u001b[38;5;124mcount\u001b[39m\u001b[38;5;124m\"\u001b[39m\n\u001b[0;32m   3607\u001b[0m \u001b[38;5;28;01mif\u001b[39;00m ax \u001b[38;5;129;01mis\u001b[39;00m \u001b[38;5;28;01mNone\u001b[39;00m:\n",
      "File \u001b[1;32m~\\anaconda3\\lib\\site-packages\\seaborn\\categorical.py:1584\u001b[0m, in \u001b[0;36m_BarPlotter.__init__\u001b[1;34m(self, x, y, hue, data, order, hue_order, estimator, ci, n_boot, units, seed, orient, color, palette, saturation, errcolor, errwidth, capsize, dodge)\u001b[0m\n\u001b[0;32m   1579\u001b[0m \u001b[38;5;28;01mdef\u001b[39;00m \u001b[38;5;21m__init__\u001b[39m(\u001b[38;5;28mself\u001b[39m, x, y, hue, data, order, hue_order,\n\u001b[0;32m   1580\u001b[0m              estimator, ci, n_boot, units, seed,\n\u001b[0;32m   1581\u001b[0m              orient, color, palette, saturation, errcolor,\n\u001b[0;32m   1582\u001b[0m              errwidth, capsize, dodge):\n\u001b[0;32m   1583\u001b[0m     \u001b[38;5;124;03m\"\"\"Initialize the plotter.\"\"\"\u001b[39;00m\n\u001b[1;32m-> 1584\u001b[0m     \u001b[38;5;28;43mself\u001b[39;49m\u001b[38;5;241;43m.\u001b[39;49m\u001b[43mestablish_variables\u001b[49m\u001b[43m(\u001b[49m\u001b[43mx\u001b[49m\u001b[43m,\u001b[49m\u001b[43m \u001b[49m\u001b[43my\u001b[49m\u001b[43m,\u001b[49m\u001b[43m \u001b[49m\u001b[43mhue\u001b[49m\u001b[43m,\u001b[49m\u001b[43m \u001b[49m\u001b[43mdata\u001b[49m\u001b[43m,\u001b[49m\u001b[43m \u001b[49m\u001b[43morient\u001b[49m\u001b[43m,\u001b[49m\n\u001b[0;32m   1585\u001b[0m \u001b[43m                             \u001b[49m\u001b[43morder\u001b[49m\u001b[43m,\u001b[49m\u001b[43m \u001b[49m\u001b[43mhue_order\u001b[49m\u001b[43m,\u001b[49m\u001b[43m \u001b[49m\u001b[43munits\u001b[49m\u001b[43m)\u001b[49m\n\u001b[0;32m   1586\u001b[0m     \u001b[38;5;28mself\u001b[39m\u001b[38;5;241m.\u001b[39mestablish_colors(color, palette, saturation)\n\u001b[0;32m   1587\u001b[0m     \u001b[38;5;28mself\u001b[39m\u001b[38;5;241m.\u001b[39mestimate_statistic(estimator, ci, n_boot, seed)\n",
      "File \u001b[1;32m~\\anaconda3\\lib\\site-packages\\seaborn\\categorical.py:156\u001b[0m, in \u001b[0;36m_CategoricalPlotter.establish_variables\u001b[1;34m(self, x, y, hue, data, orient, order, hue_order, units)\u001b[0m\n\u001b[0;32m    153\u001b[0m         \u001b[38;5;28;01mraise\u001b[39;00m \u001b[38;5;167;01mValueError\u001b[39;00m(err)\n\u001b[0;32m    155\u001b[0m \u001b[38;5;66;03m# Figure out the plotting orientation\u001b[39;00m\n\u001b[1;32m--> 156\u001b[0m orient \u001b[38;5;241m=\u001b[39m \u001b[43minfer_orient\u001b[49m\u001b[43m(\u001b[49m\n\u001b[0;32m    157\u001b[0m \u001b[43m    \u001b[49m\u001b[43mx\u001b[49m\u001b[43m,\u001b[49m\u001b[43m \u001b[49m\u001b[43my\u001b[49m\u001b[43m,\u001b[49m\u001b[43m \u001b[49m\u001b[43morient\u001b[49m\u001b[43m,\u001b[49m\u001b[43m \u001b[49m\u001b[43mrequire_numeric\u001b[49m\u001b[38;5;241;43m=\u001b[39;49m\u001b[38;5;28;43mself\u001b[39;49m\u001b[38;5;241;43m.\u001b[39;49m\u001b[43mrequire_numeric\u001b[49m\n\u001b[0;32m    158\u001b[0m \u001b[43m\u001b[49m\u001b[43m)\u001b[49m\n\u001b[0;32m    160\u001b[0m \u001b[38;5;66;03m# Option 2a:\u001b[39;00m\n\u001b[0;32m    161\u001b[0m \u001b[38;5;66;03m# We are plotting a single set of data\u001b[39;00m\n\u001b[0;32m    162\u001b[0m \u001b[38;5;66;03m# ------------------------------------\u001b[39;00m\n\u001b[0;32m    163\u001b[0m \u001b[38;5;28;01mif\u001b[39;00m x \u001b[38;5;129;01mis\u001b[39;00m \u001b[38;5;28;01mNone\u001b[39;00m \u001b[38;5;129;01mor\u001b[39;00m y \u001b[38;5;129;01mis\u001b[39;00m \u001b[38;5;28;01mNone\u001b[39;00m:\n\u001b[0;32m    164\u001b[0m \n\u001b[0;32m    165\u001b[0m     \u001b[38;5;66;03m# Determine where the data are\u001b[39;00m\n",
      "File \u001b[1;32m~\\anaconda3\\lib\\site-packages\\seaborn\\_core.py:1311\u001b[0m, in \u001b[0;36minfer_orient\u001b[1;34m(x, y, orient, require_numeric)\u001b[0m\n\u001b[0;32m   1283\u001b[0m \u001b[38;5;28;01mdef\u001b[39;00m \u001b[38;5;21minfer_orient\u001b[39m(x\u001b[38;5;241m=\u001b[39m\u001b[38;5;28;01mNone\u001b[39;00m, y\u001b[38;5;241m=\u001b[39m\u001b[38;5;28;01mNone\u001b[39;00m, orient\u001b[38;5;241m=\u001b[39m\u001b[38;5;28;01mNone\u001b[39;00m, require_numeric\u001b[38;5;241m=\u001b[39m\u001b[38;5;28;01mTrue\u001b[39;00m):\n\u001b[0;32m   1284\u001b[0m     \u001b[38;5;124;03m\"\"\"Determine how the plot should be oriented based on the data.\u001b[39;00m\n\u001b[0;32m   1285\u001b[0m \n\u001b[0;32m   1286\u001b[0m \u001b[38;5;124;03m    For historical reasons, the convention is to call a plot \"horizontally\"\u001b[39;00m\n\u001b[1;32m   (...)\u001b[0m\n\u001b[0;32m   1308\u001b[0m \n\u001b[0;32m   1309\u001b[0m \u001b[38;5;124;03m    \"\"\"\u001b[39;00m\n\u001b[1;32m-> 1311\u001b[0m     x_type \u001b[38;5;241m=\u001b[39m \u001b[38;5;28;01mNone\u001b[39;00m \u001b[38;5;28;01mif\u001b[39;00m x \u001b[38;5;129;01mis\u001b[39;00m \u001b[38;5;28;01mNone\u001b[39;00m \u001b[38;5;28;01melse\u001b[39;00m \u001b[43mvariable_type\u001b[49m\u001b[43m(\u001b[49m\u001b[43mx\u001b[49m\u001b[43m)\u001b[49m\n\u001b[0;32m   1312\u001b[0m     y_type \u001b[38;5;241m=\u001b[39m \u001b[38;5;28;01mNone\u001b[39;00m \u001b[38;5;28;01mif\u001b[39;00m y \u001b[38;5;129;01mis\u001b[39;00m \u001b[38;5;28;01mNone\u001b[39;00m \u001b[38;5;28;01melse\u001b[39;00m variable_type(y)\n\u001b[0;32m   1314\u001b[0m     nonnumeric_dv_error \u001b[38;5;241m=\u001b[39m \u001b[38;5;124m\"\u001b[39m\u001b[38;5;132;01m{}\u001b[39;00m\u001b[38;5;124m orientation requires numeric `\u001b[39m\u001b[38;5;132;01m{}\u001b[39;00m\u001b[38;5;124m` variable.\u001b[39m\u001b[38;5;124m\"\u001b[39m\n",
      "File \u001b[1;32m~\\anaconda3\\lib\\site-packages\\seaborn\\_core.py:1229\u001b[0m, in \u001b[0;36mvariable_type\u001b[1;34m(vector, boolean_type)\u001b[0m\n\u001b[0;32m   1226\u001b[0m     \u001b[38;5;28;01mreturn\u001b[39;00m \u001b[38;5;124m\"\u001b[39m\u001b[38;5;124mcategorical\u001b[39m\u001b[38;5;124m\"\u001b[39m\n\u001b[0;32m   1228\u001b[0m \u001b[38;5;66;03m# Special-case all-na data, which is always \"numeric\"\u001b[39;00m\n\u001b[1;32m-> 1229\u001b[0m \u001b[38;5;28;01mif\u001b[39;00m pd\u001b[38;5;241m.\u001b[39misna(vector)\u001b[38;5;241m.\u001b[39mall():\n\u001b[0;32m   1230\u001b[0m     \u001b[38;5;28;01mreturn\u001b[39;00m \u001b[38;5;124m\"\u001b[39m\u001b[38;5;124mnumeric\u001b[39m\u001b[38;5;124m\"\u001b[39m\n\u001b[0;32m   1232\u001b[0m \u001b[38;5;66;03m# Special-case binary/boolean data, allow caller to determine\u001b[39;00m\n\u001b[0;32m   1233\u001b[0m \u001b[38;5;66;03m# This triggers a numpy warning when vector has strings/objects\u001b[39;00m\n\u001b[0;32m   1234\u001b[0m \u001b[38;5;66;03m# https://github.com/numpy/numpy/issues/6784\u001b[39;00m\n\u001b[1;32m   (...)\u001b[0m\n\u001b[0;32m   1238\u001b[0m \u001b[38;5;66;03m# https://github.com/numpy/numpy/issues/13548\u001b[39;00m\n\u001b[0;32m   1239\u001b[0m \u001b[38;5;66;03m# This is considered a bug by numpy and will likely go away.\u001b[39;00m\n",
      "File \u001b[1;32m~\\anaconda3\\lib\\site-packages\\pandas\\core\\generic.py:1527\u001b[0m, in \u001b[0;36mNDFrame.__nonzero__\u001b[1;34m(self)\u001b[0m\n\u001b[0;32m   1525\u001b[0m \u001b[38;5;129m@final\u001b[39m\n\u001b[0;32m   1526\u001b[0m \u001b[38;5;28;01mdef\u001b[39;00m \u001b[38;5;21m__nonzero__\u001b[39m(\u001b[38;5;28mself\u001b[39m):\n\u001b[1;32m-> 1527\u001b[0m     \u001b[38;5;28;01mraise\u001b[39;00m \u001b[38;5;167;01mValueError\u001b[39;00m(\n\u001b[0;32m   1528\u001b[0m         \u001b[38;5;124mf\u001b[39m\u001b[38;5;124m\"\u001b[39m\u001b[38;5;124mThe truth value of a \u001b[39m\u001b[38;5;132;01m{\u001b[39;00m\u001b[38;5;28mtype\u001b[39m(\u001b[38;5;28mself\u001b[39m)\u001b[38;5;241m.\u001b[39m\u001b[38;5;18m__name__\u001b[39m\u001b[38;5;132;01m}\u001b[39;00m\u001b[38;5;124m is ambiguous. \u001b[39m\u001b[38;5;124m\"\u001b[39m\n\u001b[0;32m   1529\u001b[0m         \u001b[38;5;124m\"\u001b[39m\u001b[38;5;124mUse a.empty, a.bool(), a.item(), a.any() or a.all().\u001b[39m\u001b[38;5;124m\"\u001b[39m\n\u001b[0;32m   1530\u001b[0m     )\n",
      "\u001b[1;31mValueError\u001b[0m: The truth value of a Series is ambiguous. Use a.empty, a.bool(), a.item(), a.any() or a.all()."
     ]
    }
   ],
   "source": [
    "# Ödev Bölümü\n",
    "# Fonksiyonlara Özellik ve Docstring Ekleme\n",
    "\n",
    "# Görev 1: cat_summary() fonksiyonuna 1 özellik ekleyiniz. Bu özellik argümanla biçimlendirilebilir olsun. Var olan\n",
    "# özelliği de argümanla kontrol edilebilir hale getirebilirsiniz\n",
    "\n",
    "# Görev 2 : check_df(), cat_summary() fonksiyonlarına 4 bilgi (uygunsa) barındıran numpy tarzı docstring\n",
    "# yazınız. (task, params, return, example)\n",
    "\n",
    "import pandas as pd\n",
    "import seaborn as sns\n",
    "import matplotlib.pyplot as plt\n",
    "\n",
    "df = sns.load_dataset(\"titanic\")\n",
    "df.head()\n",
    "\n",
    "cat_col = [col for col in df.columns if str(df[col].dtypes) in (\"object\",\"category\",\"bool\")]\n",
    "num_but_cat = [col for col in df.columns if df[col].nunique() < 23 and str(df[col].dtypes) in (\"int64\",\"float64\")]\n",
    "cat_but_car = [col for col in df.columns if df[col].nunique() > 20 and str(df[col].dtypes) in (\"object\",\"category\",\"bool\")]\n",
    "\n",
    "cat_col += num_but_cat\n",
    "cat_col = [col for col in df.columns if df[col] not in cat_but_car]\n",
    "\n",
    "def cat_summary(dataframe,col_name, plot=False):\n",
    "    \"\"\"\n",
    "    #Doctstring\n",
    "    Veri setindeki kategorik değişkenlerin sayılarını ve grafiklerini verir.\n",
    "    \n",
    "    Parameters\n",
    "    ----------\n",
    "    dataframe: dataframe\n",
    "        değişken isimleri alınmak istenen dataframe'dir.\n",
    "    col_name: column\n",
    "        dataframe içindeki kategorik değişkenlerin columns temsil eder.\n",
    "    Returns\n",
    "    -------\n",
    "    \n",
    "    \"\"\"\n",
    "    print(pd.DataFrame({\n",
    "    col_name: dataframe[col_name].value_counts(),}))\n",
    "    if plot:\n",
    "        sns.countplot(x=dataframe[col_name],data= dataframe)\n",
    "        plt.show()\n",
    "    print(\"*\"*23)\n",
    "    \n",
    "for col in cat_col:\n",
    "    print(cat_summary(df,col,plot= True))\n",
    "    \n",
    "    \n",
    "def check_df(dataframe,head=5):\n",
    "    \"\"\"\n",
    "    Veri setinin istenilen fonksiyonların bilgilerini verir.\n",
    "    \n",
    "    Parameters\n",
    "    ----------\n",
    "    dataframe: dataframe\n",
    "        değişken isimleri alınmak istenen dataframe'dir.\n",
    "    head: head\n",
    "        dataframedeki baştaki çıktıları temsil eder ön tanımlı değer 5'tir.\n",
    "    Returns\n",
    "    -------\n",
    "    \n",
    "    \"\"\"\n",
    "    print(\"######################## Shape ########################\")\n",
    "    print(dataframe.shape)\n",
    "    print(\"######################## Types ########################\")\n",
    "    print(dataframe.dtypes)\n",
    "    print(\"######################## Head ########################\")\n",
    "    print(dataframe.head(head))\n",
    "    print(\"######################## Tail ########################\")\n",
    "    print(dataframe.tail(head))\n",
    "    print(\"######################## NA ########################\")\n",
    "    print(dataframe.isnull().sum())\n",
    "    print(\"######################## Quantiles ########################\")\n",
    "    print(dataframe.describe([0,0.05,0.50,0.95,0.99,1]).T)\n",
    "    "
   ]
  },
  {
   "cell_type": "code",
   "execution_count": 128,
   "id": "3fab1ed6-91eb-4ba8-8ac1-7b912fba43d9",
   "metadata": {},
   "outputs": [
    {
     "name": "stdout",
     "output_type": "stream",
     "text": [
      "Görev 2 \n",
      " male      577\n",
      "female    314\n",
      "Name: sex, dtype: int64\n",
      "\n",
      "Görev 3\n",
      "[{'survived': 2}, {'pclass': 3}, {'sex': 2}, {'age': 88}, {'sibsp': 7}, {'parch': 7}, {'fare': 248}, {'embarked': 3}, {'class': 3}, {'who': 3}, {'adult_male': 2}, {'deck': 7}, {'embark_town': 3}, {'alive': 2}, {'alone': 2}]\n",
      "\n",
      "pclass değişkeninin unique değerlerinin sayısı. [3 1 2]\n",
      "\n",
      "pclass sütununun Unique değerleri:[3 1 2]. \n",
      "parch sütununun unique değerleri:[0 1 2 5 3 4 6] \n",
      "\n",
      " Embark değişken tipi:  object\n",
      "\n",
      " Güncellenmiş Embark değişken tipi:  category\n"
     ]
    }
   ],
   "source": [
    "# PANDAS ALIŞTIRMALAR\n",
    "import pandas as pd \n",
    "import seaborn as sns\n",
    "\n",
    "# Görev 1 +: Seaborn kütüphanesi içerisinden Titanic veri setini tanımlayınız.\n",
    "df = sns.load_dataset(\"titanic\") \n",
    "\n",
    "# Görev 2 +: Titanic veri setindeki kadın ve erkek yolcuların sayısını bulunuz.\n",
    "print(\"Görev 2 \\n\",df[\"sex\"].value_counts())\n",
    "\n",
    "# Görev 3 +: Her bir sutuna ait unique değerlerin sayısını bulunuz.\n",
    "print(\"\\nGörev 3\")\n",
    "df_unique = [{col: df[col].nunique()} for col in df.columns]\n",
    "print(df_unique)\n",
    "\n",
    "# Görev 4: pclass değişkeninin unique değerlerinin sayısını bulunuz.\n",
    "print(\"\\npclass değişkeninin unique değerlerinin sayısı.\",df[\"pclass\"].unique())\n",
    "\n",
    "# Görev 5 +: pclass ve parch değişkenlerinin unique değerlerinin sayısını bulunuz.\n",
    "print(f\"\\npclass sütununun Unique değerleri:{df['pclass'].unique()}. \\nparch sütununun unique değerleri:{df['parch'].unique()} \")\n",
    "\n",
    "# Görev 6 +: embarked değişkeninin tipini kontrol ediniz. Tipini category olarak değiştiriniz ve tekrar kontrol ediniz.\n",
    "print(\"\\n Embark değişken tipi: \",df['embarked'].dtypes)\n",
    "df['embarked'] = df['embarked'].astype(\"category\")\n",
    "print(\"\\n Güncellenmiş Embark değişken tipi: \",df['embarked'].dtypes)\n",
    "\n"
   ]
  },
  {
   "cell_type": "code",
   "execution_count": 127,
   "id": "3c28bb09-22f8-4b9d-9dc3-7b1e30a1c5a5",
   "metadata": {},
   "outputs": [
    {
     "name": "stdout",
     "output_type": "stream",
     "text": [
      "\n",
      "Embarked değeri C olanların tüm bilgeleri:\n",
      "      survived  pclass     sex   age  sibsp  parch     fare embarked   class  \\\n",
      "1           1       1  female  38.0      1      0  71.2833        C   First   \n",
      "9           1       2  female  14.0      1      0  30.0708        C  Second   \n",
      "19          1       3  female   NaN      0      0   7.2250        C   Third   \n",
      "26          0       3    male   NaN      0      0   7.2250        C   Third   \n",
      "30          0       1    male  40.0      0      0  27.7208        C   First   \n",
      "..        ...     ...     ...   ...    ...    ...      ...      ...     ...   \n",
      "866         1       2  female  27.0      1      0  13.8583        C  Second   \n",
      "874         1       2  female  28.0      1      0  24.0000        C  Second   \n",
      "875         1       3  female  15.0      0      0   7.2250        C   Third   \n",
      "879         1       1  female  56.0      0      1  83.1583        C   First   \n",
      "889         1       1    male  26.0      0      0  30.0000        C   First   \n",
      "\n",
      "       who  adult_male deck embark_town alive  alone  \n",
      "1    woman       False    C   Cherbourg   yes  False  \n",
      "9    child       False  NaN   Cherbourg   yes  False  \n",
      "19   woman       False  NaN   Cherbourg   yes   True  \n",
      "26     man        True  NaN   Cherbourg    no   True  \n",
      "30     man        True  NaN   Cherbourg    no   True  \n",
      "..     ...         ...  ...         ...   ...    ...  \n",
      "866  woman       False  NaN   Cherbourg   yes  False  \n",
      "874  woman       False  NaN   Cherbourg   yes  False  \n",
      "875  child       False  NaN   Cherbourg   yes   True  \n",
      "879  woman       False    C   Cherbourg   yes  False  \n",
      "889    man        True    C   Cherbourg   yes   True  \n",
      "\n",
      "[168 rows x 15 columns]\n",
      "********************************\n",
      "Embarked değeri S olmayanların tüm bilgeleri\n",
      "      survived  pclass     sex   age  sibsp  parch     fare embarked   class  \\\n",
      "1           1       1  female  38.0      1      0  71.2833        C   First   \n",
      "5           0       3    male   NaN      0      0   8.4583        Q   Third   \n",
      "9           1       2  female  14.0      1      0  30.0708        C  Second   \n",
      "16          0       3    male   2.0      4      1  29.1250        Q   Third   \n",
      "19          1       3  female   NaN      0      0   7.2250        C   Third   \n",
      "..        ...     ...     ...   ...    ...    ...      ...      ...     ...   \n",
      "875         1       3  female  15.0      0      0   7.2250        C   Third   \n",
      "879         1       1  female  56.0      0      1  83.1583        C   First   \n",
      "885         0       3  female  39.0      0      5  29.1250        Q   Third   \n",
      "889         1       1    male  26.0      0      0  30.0000        C   First   \n",
      "890         0       3    male  32.0      0      0   7.7500        Q   Third   \n",
      "\n",
      "       who  adult_male deck embark_town alive  alone  \n",
      "1    woman       False    C   Cherbourg   yes  False  \n",
      "5      man        True  NaN  Queenstown    no   True  \n",
      "9    child       False  NaN   Cherbourg   yes  False  \n",
      "16   child       False  NaN  Queenstown    no  False  \n",
      "19   woman       False  NaN   Cherbourg   yes   True  \n",
      "..     ...         ...  ...         ...   ...    ...  \n",
      "875  child       False  NaN   Cherbourg   yes   True  \n",
      "879  woman       False    C   Cherbourg   yes  False  \n",
      "885  woman       False  NaN  Queenstown    no  False  \n",
      "889    man        True    C   Cherbourg   yes   True  \n",
      "890    man        True  NaN  Queenstown    no   True  \n",
      "\n",
      "[247 rows x 15 columns]\n",
      "********************************\n",
      "\n",
      "Yaşı 30 dan küçük ve kadın olan yolcuların tüm bilgileri\n",
      "      survived  pclass     sex   age  sibsp  parch     fare embarked   class  \\\n",
      "2           1       3  female  26.0      0      0   7.9250        S   Third   \n",
      "8           1       3  female  27.0      0      2  11.1333        S   Third   \n",
      "9           1       2  female  14.0      1      0  30.0708        C  Second   \n",
      "10          1       3  female   4.0      1      1  16.7000        S   Third   \n",
      "14          0       3  female  14.0      0      0   7.8542        S   Third   \n",
      "..        ...     ...     ...   ...    ...    ...      ...      ...     ...   \n",
      "874         1       2  female  28.0      1      0  24.0000        C  Second   \n",
      "875         1       3  female  15.0      0      0   7.2250        C   Third   \n",
      "880         1       2  female  25.0      0      1  26.0000        S  Second   \n",
      "882         0       3  female  22.0      0      0  10.5167        S   Third   \n",
      "887         1       1  female  19.0      0      0  30.0000        S   First   \n",
      "\n",
      "       who  adult_male deck  embark_town alive  alone  \n",
      "2    woman       False  NaN  Southampton   yes   True  \n",
      "8    woman       False  NaN  Southampton   yes  False  \n",
      "9    child       False  NaN    Cherbourg   yes  False  \n",
      "10   child       False    G  Southampton   yes  False  \n",
      "14   child       False  NaN  Southampton    no   True  \n",
      "..     ...         ...  ...          ...   ...    ...  \n",
      "874  woman       False  NaN    Cherbourg   yes  False  \n",
      "875  child       False  NaN    Cherbourg   yes   True  \n",
      "880  woman       False  NaN  Southampton   yes  False  \n",
      "882  woman       False  NaN  Southampton    no   True  \n",
      "887  woman       False    B  Southampton   yes   True  \n",
      "\n",
      "[147 rows x 15 columns]\n",
      "********************************\n",
      "\n",
      "Fare'i 500'den büyük veya yaşı 70’den büyük yolcuların bilgileri\n",
      "      survived  pclass     sex   age  sibsp  parch      fare embarked  class  \\\n",
      "1           1       1  female  38.0      1      0   71.2833        C  First   \n",
      "27          0       1    male  19.0      3      2  263.0000        S  First   \n",
      "31          1       1  female   NaN      1      0  146.5208        C  First   \n",
      "34          0       1    male  28.0      1      0   82.1708        C  First   \n",
      "52          1       1  female  49.0      1      0   76.7292        C  First   \n",
      "..        ...     ...     ...   ...    ...    ...       ...      ...    ...   \n",
      "829         1       1  female  62.0      0      0   80.0000      NaN  First   \n",
      "835         1       1  female  39.0      1      1   83.1583        C  First   \n",
      "849         1       1  female   NaN      1      0   89.1042        C  First   \n",
      "856         1       1  female  45.0      1      1  164.8667        S  First   \n",
      "879         1       1  female  56.0      0      1   83.1583        C  First   \n",
      "\n",
      "       who  adult_male deck  embark_town alive  alone  \n",
      "1    woman       False    C    Cherbourg   yes  False  \n",
      "27     man        True    C  Southampton    no  False  \n",
      "31   woman       False    B    Cherbourg   yes  False  \n",
      "34     man        True  NaN    Cherbourg    no  False  \n",
      "52   woman       False    D    Cherbourg   yes  False  \n",
      "..     ...         ...  ...          ...   ...    ...  \n",
      "829  woman       False    B          NaN   yes   True  \n",
      "835  woman       False    E    Cherbourg   yes  False  \n",
      "849  woman       False    C    Cherbourg   yes  False  \n",
      "856  woman       False  NaN  Southampton   yes  False  \n",
      "879  woman       False    C    Cherbourg   yes  False  \n",
      "\n",
      "[105 rows x 15 columns]\n"
     ]
    }
   ],
   "source": [
    "# Görev 7 +: embarked değeri C olanların tüm bilgelerini gösteriniz.\n",
    "print(\"\\nEmbarked değeri C olanların tüm bilgeleri:\\n\", df[df[\"embarked\"] == \"C\"])\n",
    "\n",
    "# Görev 8 +: embarked değeri S olmayanların tüm bilgelerini gösteriniz.\n",
    "print(\"*\"*32)\n",
    "print(\"Embarked değeri S olmayanların tüm bilgeleri\\n\",df[df[\"embarked\"] != \"S\"])\n",
    "\n",
    "\n",
    "# Görev 9 +: Yaşı 30 dan küçük ve kadın olan yolcuların tüm bilgilerini gösteriniz.\n",
    "print(\"*\"*32)\n",
    "print(\"\\nYaşı 30 dan küçük ve kadın olan yolcuların tüm bilgileri\\n\",df[(df[\"sex\"] == \"female\") & (df[\"age\"] < 30)])\n",
    "\n",
    "# Görev 10 +: Fare'i 500'den büyük veya yaşı 70’den büyük yolcuların bilgilerini gösteriniz\n",
    "print(\"*\"*32)\n",
    "print(\"\\nFare'i 500'den büyük veya yaşı 70’den büyük yolcuların bilgileri\\n\",df[(df[\"fare\"] > 500) | (df[\"fare\"] > 70)])\n"
   ]
  },
  {
   "cell_type": "code",
   "execution_count": 147,
   "id": "6de5b885-253c-4c7f-93b9-c0b30623190b",
   "metadata": {},
   "outputs": [
    {
     "name": "stdout",
     "output_type": "stream",
     "text": [
      "[{'survived': 0}, {'pclass': 0}, {'sex': 0}, {'age': 177}, {'sibsp': 0}, {'parch': 0}, {'fare': 0}, {'embarked': 2}, {'class': 0}, {'adult_male': 0}, {'deck': 688}, {'embark_town': 2}, {'alive': 0}, {'alone': 0}]\n"
     ]
    },
    {
     "data": {
      "text/html": [
       "<div>\n",
       "<style scoped>\n",
       "    .dataframe tbody tr th:only-of-type {\n",
       "        vertical-align: middle;\n",
       "    }\n",
       "\n",
       "    .dataframe tbody tr th {\n",
       "        vertical-align: top;\n",
       "    }\n",
       "\n",
       "    .dataframe thead th {\n",
       "        text-align: right;\n",
       "    }\n",
       "</style>\n",
       "<table border=\"1\" class=\"dataframe\">\n",
       "  <thead>\n",
       "    <tr style=\"text-align: right;\">\n",
       "      <th></th>\n",
       "      <th>survived</th>\n",
       "      <th>pclass</th>\n",
       "      <th>sex</th>\n",
       "      <th>age</th>\n",
       "      <th>sibsp</th>\n",
       "      <th>parch</th>\n",
       "      <th>fare</th>\n",
       "      <th>embarked</th>\n",
       "      <th>class</th>\n",
       "      <th>adult_male</th>\n",
       "      <th>deck</th>\n",
       "      <th>embark_town</th>\n",
       "      <th>alive</th>\n",
       "      <th>alone</th>\n",
       "    </tr>\n",
       "  </thead>\n",
       "  <tbody>\n",
       "    <tr>\n",
       "      <th>0</th>\n",
       "      <td>0</td>\n",
       "      <td>3</td>\n",
       "      <td>male</td>\n",
       "      <td>22.0</td>\n",
       "      <td>1</td>\n",
       "      <td>0</td>\n",
       "      <td>7.2500</td>\n",
       "      <td>S</td>\n",
       "      <td>Third</td>\n",
       "      <td>True</td>\n",
       "      <td>NaN</td>\n",
       "      <td>Southampton</td>\n",
       "      <td>no</td>\n",
       "      <td>False</td>\n",
       "    </tr>\n",
       "    <tr>\n",
       "      <th>1</th>\n",
       "      <td>1</td>\n",
       "      <td>1</td>\n",
       "      <td>female</td>\n",
       "      <td>38.0</td>\n",
       "      <td>1</td>\n",
       "      <td>0</td>\n",
       "      <td>71.2833</td>\n",
       "      <td>C</td>\n",
       "      <td>First</td>\n",
       "      <td>False</td>\n",
       "      <td>C</td>\n",
       "      <td>Cherbourg</td>\n",
       "      <td>yes</td>\n",
       "      <td>False</td>\n",
       "    </tr>\n",
       "    <tr>\n",
       "      <th>2</th>\n",
       "      <td>1</td>\n",
       "      <td>3</td>\n",
       "      <td>female</td>\n",
       "      <td>26.0</td>\n",
       "      <td>0</td>\n",
       "      <td>0</td>\n",
       "      <td>7.9250</td>\n",
       "      <td>S</td>\n",
       "      <td>Third</td>\n",
       "      <td>False</td>\n",
       "      <td>NaN</td>\n",
       "      <td>Southampton</td>\n",
       "      <td>yes</td>\n",
       "      <td>True</td>\n",
       "    </tr>\n",
       "    <tr>\n",
       "      <th>3</th>\n",
       "      <td>1</td>\n",
       "      <td>1</td>\n",
       "      <td>female</td>\n",
       "      <td>35.0</td>\n",
       "      <td>1</td>\n",
       "      <td>0</td>\n",
       "      <td>53.1000</td>\n",
       "      <td>S</td>\n",
       "      <td>First</td>\n",
       "      <td>False</td>\n",
       "      <td>C</td>\n",
       "      <td>Southampton</td>\n",
       "      <td>yes</td>\n",
       "      <td>False</td>\n",
       "    </tr>\n",
       "    <tr>\n",
       "      <th>4</th>\n",
       "      <td>0</td>\n",
       "      <td>3</td>\n",
       "      <td>male</td>\n",
       "      <td>35.0</td>\n",
       "      <td>0</td>\n",
       "      <td>0</td>\n",
       "      <td>8.0500</td>\n",
       "      <td>S</td>\n",
       "      <td>Third</td>\n",
       "      <td>True</td>\n",
       "      <td>NaN</td>\n",
       "      <td>Southampton</td>\n",
       "      <td>no</td>\n",
       "      <td>True</td>\n",
       "    </tr>\n",
       "  </tbody>\n",
       "</table>\n",
       "</div>"
      ],
      "text/plain": [
       "   survived  pclass     sex   age  sibsp  parch     fare embarked  class  \\\n",
       "0         0       3    male  22.0      1      0   7.2500        S  Third   \n",
       "1         1       1  female  38.0      1      0  71.2833        C  First   \n",
       "2         1       3  female  26.0      0      0   7.9250        S  Third   \n",
       "3         1       1  female  35.0      1      0  53.1000        S  First   \n",
       "4         0       3    male  35.0      0      0   8.0500        S  Third   \n",
       "\n",
       "   adult_male deck  embark_town alive  alone  \n",
       "0        True  NaN  Southampton    no  False  \n",
       "1       False    C    Cherbourg   yes  False  \n",
       "2       False  NaN  Southampton   yes   True  \n",
       "3       False    C  Southampton   yes  False  \n",
       "4        True  NaN  Southampton    no   True  "
      ]
     },
     "execution_count": 147,
     "metadata": {},
     "output_type": "execute_result"
    }
   ],
   "source": [
    "\n",
    "#Görev 11+: Her bir değişkendeki boş değerlerin toplamını bulunuz.\n",
    "bosh = [{col: df[col].isnull().sum()}  for col in df.columns]\n",
    "print(bosh)\n",
    "\n",
    "#Görev 12+: who değişkenini dataframe’den çıkarınız.\n",
    "#df.drop('who', axis=1)\n",
    "df.head()\n"
   ]
  },
  {
   "cell_type": "code",
   "execution_count": 44,
   "id": "79302d6f-e44f-4a84-9166-48a6f3f94548",
   "metadata": {},
   "outputs": [
    {
     "name": "stdout",
     "output_type": "stream",
     "text": [
      "    deck\n",
      "0      C\n",
      "1      C\n",
      "2      C\n",
      "3      C\n",
      "4      C\n",
      "..   ...\n",
      "886    C\n",
      "887    B\n",
      "888    C\n",
      "889    C\n",
      "890    C\n",
      "\n",
      "[891 rows x 1 columns]\n",
      "\n",
      "Age degiskeninde  177 bosh deger vardır.\n",
      "\n",
      "0      22.0\n",
      "1      38.0\n",
      "2      26.0\n",
      "3      35.0\n",
      "4      35.0\n",
      "       ... \n",
      "886    27.0\n",
      "887    19.0\n",
      "888    28.0\n",
      "889    26.0\n",
      "890    32.0\n",
      "Name: age, Length: 891, dtype: float64\n"
     ]
    }
   ],
   "source": [
    "import pandas as pd \n",
    "import seaborn as sns\n",
    "df = sns.load_dataset(\"titanic\") \n",
    "\n",
    "#Görev 13: deck değikenindeki boş değerleri deck değişkenin en çok tekrar eden değeri (mode) ile doldurunuz.\n",
    "df.deck.fillna(df[\"deck\"].mode()[0],inplace=True)\n",
    "print(df[[\"deck\"]])\n",
    "\n",
    "#Görev 14: age değikenindeki boş değerleri age değişkenin medyanı ile doldurunuz.\n",
    "print(\"\\nAge degiskeninde \",df.age.isna().sum(), \"bosh deger vardır.\\n\")\n",
    "df.age.fillna(df[\"age\"].median(),inplace=True)\n",
    "print(df.age)\n",
    "\n",
    "\n"
   ]
  },
  {
   "cell_type": "code",
   "execution_count": 2,
   "id": "1c916590-bbed-4935-8302-a18451c8b57f",
   "metadata": {},
   "outputs": [
    {
     "name": "stdout",
     "output_type": "stream",
     "text": [
      "              survived                \n",
      "                   sum count      mean\n",
      "sex    pclass                         \n",
      "female 1            91    94  0.968085\n",
      "       2            70    76  0.921053\n",
      "       3            72   144  0.500000\n",
      "male   1            45   122  0.368852\n",
      "       2            17   108  0.157407\n",
      "       3            47   347  0.135447\n",
      "df['age_flage'].head cıktısı \n",
      " 0    1\n",
      "1    0\n",
      "2    1\n",
      "3    0\n",
      "4    0\n",
      "Name: age_flag, dtype: int64\n"
     ]
    }
   ],
   "source": [
    "import pandas as pd \n",
    "import seaborn as sns\n",
    "df = sns.load_dataset(\"titanic\") \n",
    "\n",
    "#Görev 15: survived değişkeninin pclass ve cinsiyet değişkenleri kırılımınında sum, count, mean değerlerini bulunuz. \n",
    "print(df.groupby([\"sex\", \"pclass\"]).agg({\"survived\": [\"sum\", \"count\", \"mean\"]}))\n",
    "\n",
    "#Görev 16: 30 yaşın altında olanlar 1, 30'a eşit ve üstünde olanlara 0 verecek bir fonksiyon yazın. Yazdığınız fonksiyonu kullanarak titanik veri\n",
    "#setinde age_flag adında bir değişken oluşturunuz oluşturunuz. (apply ve lambda yapılarını kullanınız)\n",
    "df[\"age_flag\"]  = df[\"age\"].apply(lambda x: 1 if x < 30 else 0)\n",
    "print(\"df['age_flage'].head cıktısı \\n\",df[\"age_flag\"].head())\n"
   ]
  },
  {
   "cell_type": "code",
   "execution_count": 4,
   "id": "15eb6b31-0822-4ef4-8539-ad59aee49046",
   "metadata": {},
   "outputs": [
    {
     "name": "stdout",
     "output_type": "stream",
     "text": [
      "Tips veri seti:\n",
      "    total_bill   tip     sex smoker  day    time  size\n",
      "0       16.99  1.01  Female     No  Sun  Dinner     2\n",
      "1       10.34  1.66    Male     No  Sun  Dinner     3\n",
      "2       21.01  3.50    Male     No  Sun  Dinner     3\n",
      "3       23.68  3.31    Male     No  Sun  Dinner     2\n",
      "4       24.59  3.61  Female     No  Sun  Dinner     4\n",
      "\n",
      "Time değişkeninin kategorilerine (Dinner, Lunch) göre total_bill değerinin sum, min, max ve mean değerleri\n",
      "       total_bill                        \n",
      "              sum   min    max       mean\n",
      "time                                     \n",
      "Dinner    3660.30  3.07  50.81  20.797159\n",
      "Lunch     1167.47  7.51  43.11  17.168676\n",
      "\n",
      "Day ve time’a göre total_bill değerlerinin sum, min, max ve mean değerleri\n",
      "            total_bill                         \n",
      "                   sum    min    max       mean\n",
      "time   day                                     \n",
      "Dinner Fri      235.96   5.75  40.17  19.663333\n",
      "       Sat     1778.40   3.07  50.81  20.441379\n",
      "       Sun     1627.16   7.25  48.17  21.410000\n",
      "       Thur      18.78  18.78  18.78  18.780000\n",
      "Lunch  Fri       89.92   8.58  16.27  12.845714\n",
      "       Thur    1077.55   7.51  43.11  17.664754\n",
      "\n",
      "Lunch zamanına ve kadın müşterilere ait total_bill ve tip değerlerinin day'e göre sum, min, max ve mean değerleri\n",
      "      total_bill                        \n",
      "             sum   min    max       mean\n",
      "time                                    \n",
      "False    4827.77  3.07  50.81  19.785943\n",
      "\n",
      "Görev 21: size'i 3'ten küçük, total_bill'i 10'dan büyük olan siparişlerin ortalaması nedir?\n",
      "\n",
      "total_bill    17.184965\n",
      "tip            2.638811\n",
      "size           1.993007\n",
      "dtype: float64\n"
     ]
    },
    {
     "name": "stderr",
     "output_type": "stream",
     "text": [
      "C:\\Users\\bhrak\\AppData\\Local\\Temp\\ipykernel_29180\\1806942975.py:23: FutureWarning: Dropping of nuisance columns in DataFrame reductions (with 'numeric_only=None') is deprecated; in a future version this will raise TypeError.  Select only valid columns before calling the reduction.\n",
      "  print(df.loc[(df[\"size\"] < 3) & (df[\"total_bill\"] > 10)].mean())\n"
     ]
    }
   ],
   "source": [
    "import pandas as pd \n",
    "import seaborn as sns\n",
    "\n",
    "#Görev 17: Seaborn kütüphanesi içerisinden Tips veri setini tanımlayınız.\n",
    "df = sns.load_dataset(\"Tips\")\n",
    "print(\"Tips veri seti:\\n\",df.head())\n",
    "\n",
    "#Görev 18: Time değişkeninin kategorilerine (Dinner, Lunch) göre total_bill değerinin sum, min, max ve mean değerlerini bulunuz.\n",
    "print(\"\\nTime değişkeninin kategorilerine (Dinner, Lunch) göre total_bill değerinin sum, min, max ve mean değerleri\")\n",
    "print(df.groupby(\"time\").agg({\"total_bill\": [\"sum\",\"min\",\"max\",\"mean\"]}))\n",
    "\n",
    "#Görev 19: Day ve time’a göre total_bill değerlerinin sum, min, max ve mean değerlerini bulunuz.\n",
    "print(\"\\nDay ve time’a göre total_bill değerlerinin sum, min, max ve mean değerleri\")\n",
    "print(df.groupby([\"time\",\"day\"]).agg({\"total_bill\":[\"sum\",\"min\",\"max\",\"mean\",]}))\n",
    "\n",
    "#Görev 20 ??????: Lunch zamanına ve kadın müşterilere ait total_bill ve tip değerlerinin day'e göre sum, min, max ve mean değerlerini bulunuz.\n",
    "print(\"\\nLunch zamanına ve kadın müşterilere ait total_bill ve tip değerlerinin day'e göre sum, min, max ve mean değerleri\")\n",
    "print(df.groupby(df[\"time\"] == \"lunch\").agg({\"total_bill\": [\"sum\",\"min\",\"max\",\"mean\"]}))\n",
    "\n",
    "\n",
    "#Görev 21: size'i 3'ten küçük, total_bill'i 10'dan büyük olan siparişlerin ortalaması nedir? (loc kullanınız)\n",
    "print(\"\\nGörev 21: size'i 3'ten küçük, total_bill'i 10'dan büyük olan siparişlerin ortalaması nedir?\\n\")\n",
    "print(df.loc[(df[\"size\"] < 3) & (df[\"total_bill\"] > 10)].mean())\n",
    "\n"
   ]
  },
  {
   "cell_type": "code",
   "execution_count": 17,
   "id": "0641ec4e-0a64-4cce-bbde-7ca890b28d42",
   "metadata": {},
   "outputs": [
    {
     "name": "stdout",
     "output_type": "stream",
     "text": [
      "Tips veri seti:\n",
      "    total_bill   tip     sex smoker  day    time  size\n",
      "0       16.99  1.01  Female     No  Sun  Dinner     2\n",
      "1       10.34  1.66    Male     No  Sun  Dinner     3\n",
      "2       21.01  3.50    Male     No  Sun  Dinner     3\n",
      "3       23.68  3.31    Male     No  Sun  Dinner     2\n",
      "4       24.59  3.61  Female     No  Sun  Dinner     4\n",
      "   total_bill   tip     sex smoker  day    time  size  total_bill_tip_sum\n",
      "0       16.99  1.01  Female     No  Sun  Dinner     2               18.00\n",
      "1       10.34  1.66    Male     No  Sun  Dinner     3               12.00\n",
      "2       21.01  3.50    Male     No  Sun  Dinner     3               24.51\n",
      "3       23.68  3.31    Male     No  Sun  Dinner     2               26.99\n",
      "4       24.59  3.61  Female     No  Sun  Dinner     4               28.20\n"
     ]
    },
    {
     "data": {
      "text/html": [
       "<div>\n",
       "<style scoped>\n",
       "    .dataframe tbody tr th:only-of-type {\n",
       "        vertical-align: middle;\n",
       "    }\n",
       "\n",
       "    .dataframe tbody tr th {\n",
       "        vertical-align: top;\n",
       "    }\n",
       "\n",
       "    .dataframe thead th {\n",
       "        text-align: right;\n",
       "    }\n",
       "</style>\n",
       "<table border=\"1\" class=\"dataframe\">\n",
       "  <thead>\n",
       "    <tr style=\"text-align: right;\">\n",
       "      <th></th>\n",
       "      <th>total_bill</th>\n",
       "      <th>tip</th>\n",
       "      <th>sex</th>\n",
       "      <th>smoker</th>\n",
       "      <th>day</th>\n",
       "      <th>time</th>\n",
       "      <th>size</th>\n",
       "      <th>total_bill_tip_sum</th>\n",
       "      <th>total_bill_flag</th>\n",
       "    </tr>\n",
       "  </thead>\n",
       "  <tbody>\n",
       "    <tr>\n",
       "      <th>0</th>\n",
       "      <td>16.99</td>\n",
       "      <td>1.01</td>\n",
       "      <td>Female</td>\n",
       "      <td>No</td>\n",
       "      <td>Sun</td>\n",
       "      <td>Dinner</td>\n",
       "      <td>2</td>\n",
       "      <td>18.00</td>\n",
       "      <td>None</td>\n",
       "    </tr>\n",
       "    <tr>\n",
       "      <th>1</th>\n",
       "      <td>10.34</td>\n",
       "      <td>1.66</td>\n",
       "      <td>Male</td>\n",
       "      <td>No</td>\n",
       "      <td>Sun</td>\n",
       "      <td>Dinner</td>\n",
       "      <td>3</td>\n",
       "      <td>12.00</td>\n",
       "      <td>None</td>\n",
       "    </tr>\n",
       "    <tr>\n",
       "      <th>2</th>\n",
       "      <td>21.01</td>\n",
       "      <td>3.50</td>\n",
       "      <td>Male</td>\n",
       "      <td>No</td>\n",
       "      <td>Sun</td>\n",
       "      <td>Dinner</td>\n",
       "      <td>3</td>\n",
       "      <td>24.51</td>\n",
       "      <td>None</td>\n",
       "    </tr>\n",
       "    <tr>\n",
       "      <th>3</th>\n",
       "      <td>23.68</td>\n",
       "      <td>3.31</td>\n",
       "      <td>Male</td>\n",
       "      <td>No</td>\n",
       "      <td>Sun</td>\n",
       "      <td>Dinner</td>\n",
       "      <td>2</td>\n",
       "      <td>26.99</td>\n",
       "      <td>None</td>\n",
       "    </tr>\n",
       "    <tr>\n",
       "      <th>4</th>\n",
       "      <td>24.59</td>\n",
       "      <td>3.61</td>\n",
       "      <td>Female</td>\n",
       "      <td>No</td>\n",
       "      <td>Sun</td>\n",
       "      <td>Dinner</td>\n",
       "      <td>4</td>\n",
       "      <td>28.20</td>\n",
       "      <td>None</td>\n",
       "    </tr>\n",
       "  </tbody>\n",
       "</table>\n",
       "</div>"
      ],
      "text/plain": [
       "   total_bill   tip     sex smoker  day    time  size  total_bill_tip_sum  \\\n",
       "0       16.99  1.01  Female     No  Sun  Dinner     2               18.00   \n",
       "1       10.34  1.66    Male     No  Sun  Dinner     3               12.00   \n",
       "2       21.01  3.50    Male     No  Sun  Dinner     3               24.51   \n",
       "3       23.68  3.31    Male     No  Sun  Dinner     2               26.99   \n",
       "4       24.59  3.61  Female     No  Sun  Dinner     4               28.20   \n",
       "\n",
       "  total_bill_flag  \n",
       "0            None  \n",
       "1            None  \n",
       "2            None  \n",
       "3            None  \n",
       "4            None  "
      ]
     },
     "execution_count": 17,
     "metadata": {},
     "output_type": "execute_result"
    }
   ],
   "source": [
    "import pandas as pd \n",
    "import seaborn as sns\n",
    "\n",
    "#Görev 17: Seaborn kütüphanesi içerisinden Tips veri setini tanımlayınız.\n",
    "df = sns.load_dataset(\"Tips\")\n",
    "print(\"Tips veri seti:\\n\",df.head())\n",
    "\n",
    "#Görev 22: total_bill_tip_sum adında yeni bir değişken oluşturunuz. Her bir müşterinin ödediği totalbill ve tip in toplamını versin.\n",
    "df[\"total_bill_tip_sum\"] = df.apply(lambda df: df[\"total_bill\"] + df[\"tip\"],axis=1)\n",
    "print(df.head())\n",
    "\n",
    "#Görev 23: Total_bill değişkeninin kadın ve erkek için ayrı ayrı ortalamasını bulunuz ++. Bulduğunuz ortalamaların altında olanlara 0, üstünde ve eşit\n",
    "#olanlara 1 verildiği yeni bir total_bill_flag değişkeni oluşturunuz.\n",
    "#Kadınlar için Female olanlarının ortalamaları, erkekler için ise Male olanların ortalamaları dikkate alınacktır. Parametre olarak cinsiyet ve total_bill\n",
    "#alan bir fonksiyon yazarak başlayınız. (If-else koşulları içerecek)\n",
    "\n",
    "kadin_ort = df[df[\"sex\"] ==\"Female\"][\"total_bill\"].mean()\n",
    "erkek_ort = df[df[\"sex\"] == \"Male\"][\"total_bill\"].mean()\n",
    "\n",
    "def twentythree(cinsiyet, total_bill):\n",
    "    for col in cinsiyet:\n",
    "        if cinsiyet == \"Female\":\n",
    "            if total_bill < kadin_ort:\n",
    "                return 0\n",
    "            else:\n",
    "                return 1\n",
    "        elif cinsiyet == \"Male\":\n",
    "            if total_bill < erkek_ort:\n",
    "                return 0\n",
    "            else:\n",
    "                return 1\n",
    "                \n",
    "cinsiyet = [col for col in df[\"sex\"]]\n",
    "total_bill = [col for col in df[\"total_bill\"]]\n",
    "df[\"total_bill_flag\"] = twentythree(cinsiyet,total_bill)\n",
    "df.head()\n",
    "\n",
    "\n",
    "#Görev 24: total_bill_flag değişkenini kullanarak cinsiyetlere göre ortalamanın altında ve üstünde olanların sayısını gözlemleyiniz.\n",
    "#Görev 25: Veriyi total_bill_tip_sum değişkenine göre büyükten küçüğe sıralayınız ve ilk 30 kişiyi yeni bir dataframe'e atayınız.\n",
    "\n",
    "\n"
   ]
  },
  {
   "cell_type": "code",
   "execution_count": 41,
   "id": "7854db31-af17-4c0a-aee7-af84dbd8cf42",
   "metadata": {
    "collapsed": true,
    "jupyter": {
     "outputs_hidden": true
    },
    "tags": []
   },
   "outputs": [
    {
     "name": "stdout",
     "output_type": "stream",
     "text": [
      "######################## Shape ########################\n",
      "(5000, 5)\n",
      "######################## Types ########################\n",
      "PRICE       int64\n",
      "SOURCE     object\n",
      "SEX        object\n",
      "COUNTRY    object\n",
      "AGE         int64\n",
      "dtype: object\n",
      "######################## Head ########################\n",
      "   PRICE   SOURCE   SEX COUNTRY  AGE\n",
      "0     39  android  male     bra   17\n",
      "1     39  android  male     bra   17\n",
      "2     49  android  male     bra   17\n",
      "3     29  android  male     tur   17\n",
      "4     49  android  male     tur   17\n",
      "######################## Tail ########################\n",
      "      PRICE   SOURCE     SEX COUNTRY  AGE\n",
      "4995     29  android  female     bra   31\n",
      "4996     29  android  female     bra   31\n",
      "4997     29  android  female     bra   31\n",
      "4998     39  android  female     bra   31\n",
      "4999     29  android  female     bra   31\n",
      "######################## NA ########################\n",
      "PRICE      0\n",
      "SOURCE     0\n",
      "SEX        0\n",
      "COUNTRY    0\n",
      "AGE        0\n",
      "dtype: int64\n",
      "######################## Quantiles ########################\n",
      "        count     mean        std   min    0%    5%   50%   95%   99%  100%  \\\n",
      "PRICE  5000.0  34.1320  12.464897   9.0   9.0  19.0  39.0  49.0  59.0  59.0   \n",
      "AGE    5000.0  23.5814   8.995908  15.0  15.0  15.0  21.0  43.0  53.0  66.0   \n",
      "\n",
      "        max  \n",
      "PRICE  59.0  \n",
      "AGE    66.0  \n"
     ]
    }
   ],
   "source": [
    "#Kural Tabanlı Sınıflandırma ile Potansiyel Müşteri Getirisi Hesaplama\n",
    "import pandas as pd\n",
    "import seaborn as sns\n",
    "from matplotlib import pyplot as plt\n",
    "\n",
    "#GOREV 1\n",
    "# Soru 1: persona.csv dosyasını okutunuz ve veri seti ile ilgili genel bilgileri gösteriniz.\n",
    "df = pd.read_csv(\"persona.csv\")\n",
    "\n",
    "def check_df(dataframe,head=5):\n",
    "    print(\"######################## Shape ########################\")\n",
    "    print(dataframe.shape)\n",
    "    print(\"######################## Types ########################\")\n",
    "    print(dataframe.dtypes)\n",
    "    print(\"######################## Head ########################\")\n",
    "    print(dataframe.head(head))\n",
    "    print(\"######################## Tail ########################\")\n",
    "    print(dataframe.tail(head))\n",
    "    print(\"######################## NA ########################\")\n",
    "    print(dataframe.isnull().sum())\n",
    "    print(\"######################## Quantiles ########################\")\n",
    "    print(dataframe.describe([0,0.05,0.50,0.95,0.99,1]).T)\n",
    "    \n",
    "check_df(df)"
   ]
  },
  {
   "cell_type": "code",
   "execution_count": 42,
   "id": "7b4bcb61-03b4-4bd9-8c56-feb22ff71222",
   "metadata": {},
   "outputs": [
    {
     "name": "stdout",
     "output_type": "stream",
     "text": [
      "2 tane unique degeri vardir. frekanslari ['android' 'ios']\n",
      "6 tane unique degeri vardir. frekanslari [39 49 29 19 59  9]\n"
     ]
    }
   ],
   "source": [
    "# Soru 2: Kaç unique SOURCE vardır? Frekansları nedir?\n",
    "print(df[\"SOURCE\"].nunique(),\"tane unique degeri vardir.\",\"frekanslari\",df[\"SOURCE\"].unique())\n",
    "# Soru 3: Kaç unique PRICE vardır?\n",
    "print(df[\"PRICE\"].nunique(),\"tane unique degeri vardir.\",\"frekanslari\",df[\"PRICE\"].unique())\n"
   ]
  },
  {
   "cell_type": "code",
   "execution_count": 44,
   "id": "05de5e12-0606-46e8-b366-3c2664ddb6ea",
   "metadata": {},
   "outputs": [
    {
     "name": "stdout",
     "output_type": "stream",
     "text": [
      "29    1305\n",
      "39    1260\n",
      "49    1031\n",
      "19     992\n",
      "59     212\n",
      "9      200\n",
      "Name: PRICE, dtype: int64\n",
      "usa    2065\n",
      "bra    1496\n",
      "deu     455\n",
      "tur     451\n",
      "fra     303\n",
      "can     230\n",
      "Name: COUNTRY, dtype: int64\n"
     ]
    }
   ],
   "source": [
    "# Soru 4: Hangi PRICE'dan kaçar tane satış gerçekleşmiş?\n",
    "print(df[\"PRICE\"].value_counts())\n",
    "\n",
    "# Soru 5: Hangi ülkeden kaçar tane satış olmuş?\n",
    "print(df[\"COUNTRY\"].value_counts())"
   ]
  },
  {
   "cell_type": "code",
   "execution_count": 51,
   "id": "a55873e7-bef6-479f-a84b-98e04af4e3d2",
   "metadata": {},
   "outputs": [
    {
     "name": "stdout",
     "output_type": "stream",
     "text": [
      "Ülkelere göre satışlardan toplam ne kadar kazanılmış?\n",
      "          PRICE\n",
      "COUNTRY       \n",
      "bra      51354\n",
      "can       7730\n",
      "deu      15485\n",
      "fra      10177\n",
      "tur      15689\n",
      "usa      70225\n",
      "\n",
      "SOURCE türlerine göre satış sayıları nedir?\n",
      "          PRICE\n",
      "SOURCE        \n",
      "android   2974\n",
      "ios       2026\n",
      "\n",
      "Ülkelere göre PRICE ortalamaları nedir?\n",
      "              PRICE\n",
      "COUNTRY           \n",
      "bra      34.327540\n",
      "can      33.608696\n",
      "deu      34.032967\n",
      "fra      33.587459\n",
      "tur      34.787140\n",
      "usa      34.007264\n",
      "\n",
      "SOURCE'lara göre PRICE ortalamaları nedir?\n",
      "              PRICE\n",
      "SOURCE            \n",
      "android  34.174849\n",
      "ios      34.069102\n",
      "\n",
      "COUNTRY-SOURCE kırılımında PRICE ortalamaları nedir?\n",
      "                      PRICE\n",
      "COUNTRY SOURCE            \n",
      "bra     android  34.387029\n",
      "        ios      34.222222\n",
      "can     android  33.330709\n",
      "        ios      33.951456\n",
      "deu     android  33.869888\n",
      "        ios      34.268817\n",
      "fra     android  34.312500\n",
      "        ios      32.776224\n",
      "tur     android  36.229437\n",
      "        ios      33.272727\n",
      "usa     android  33.760357\n",
      "        ios      34.371703\n"
     ]
    }
   ],
   "source": [
    "# Soru 6: Ülkelere göre satışlardan toplam ne kadar kazanılmış?\n",
    "# Note: bu soruyu soruyorsan aklına groupby gelsin ve grouplayacakların kategorik degiskenlerdir.\n",
    "print(\"Ülkelere göre satışlardan toplam ne kadar kazanılmış?\\n\",df.groupby(\"COUNTRY\").agg({\"PRICE\": \"sum\"}))\n",
    "\n",
    "# Soru 7: SOURCE türlerine göre satış sayıları nedir?\n",
    "print(\"\\nSOURCE türlerine göre satış sayıları nedir?\\n\",df.groupby(\"SOURCE\").agg({\"PRICE\":\"count\"}))\n",
    "\n",
    "# Soru 8: Ülkelere göre PRICE ortalamaları nedir?\n",
    "print(\"\\nÜlkelere göre PRICE ortalamaları nedir?\\n\",df.groupby(\"COUNTRY\").agg({\"PRICE\":\"mean\"}))\n",
    "\n",
    "# Soru 9: SOURCE'lara göre PRICE ortalamaları nedir?\n",
    "print(\"\\nSOURCE'lara göre PRICE ortalamaları nedir?\\n\",df.groupby(\"SOURCE\").agg({\"PRICE\":\"mean\"}))\n",
    "\n",
    "# Soru 10: COUNTRY-SOURCE kırılımında PRICE ortalamaları nedir?\n",
    "print(\"\\nCOUNTRY-SOURCE kırılımında PRICE ortalamaları nedir?\\n\",df.groupby([\"COUNTRY\",\"SOURCE\"]).agg({\"PRICE\":\"mean\"}))\n"
   ]
  },
  {
   "cell_type": "code",
   "execution_count": 63,
   "id": "197f4975-5520-47f8-a0aa-fb5bcf6286fe",
   "metadata": {},
   "outputs": [
    {
     "name": "stdout",
     "output_type": "stream",
     "text": [
      "COUNTRY  SOURCE   SEX     AGE\n",
      "bra      android  female  15     38.714286\n",
      "                          16     35.944444\n",
      "                          17     35.666667\n",
      "                          18     32.255814\n",
      "                          19     35.206897\n",
      "Name: PRICE, dtype: float64\n"
     ]
    }
   ],
   "source": [
    "# GOREV 2\n",
    "# Soru 1: COUNTRY, SOURCE, SEX, AGE kırılımında ortalama kazançlar nedir?\n",
    "print(df.groupby([\"COUNTRY\",\"SOURCE\",\"SEX\",\"AGE\"])[\"PRICE\"].mean().head())\n"
   ]
  },
  {
   "cell_type": "code",
   "execution_count": 8,
   "id": "a34dd006-5175-47d2-b806-f3c08dc66c67",
   "metadata": {},
   "outputs": [
    {
     "data": {
      "text/html": [
       "<div>\n",
       "<style scoped>\n",
       "    .dataframe tbody tr th:only-of-type {\n",
       "        vertical-align: middle;\n",
       "    }\n",
       "\n",
       "    .dataframe tbody tr th {\n",
       "        vertical-align: top;\n",
       "    }\n",
       "\n",
       "    .dataframe thead th {\n",
       "        text-align: right;\n",
       "    }\n",
       "</style>\n",
       "<table border=\"1\" class=\"dataframe\">\n",
       "  <thead>\n",
       "    <tr style=\"text-align: right;\">\n",
       "      <th></th>\n",
       "      <th></th>\n",
       "      <th></th>\n",
       "      <th></th>\n",
       "      <th>level_0</th>\n",
       "      <th>index</th>\n",
       "      <th>PRICE</th>\n",
       "    </tr>\n",
       "    <tr>\n",
       "      <th>COUNTRY</th>\n",
       "      <th>SOURCE</th>\n",
       "      <th>SEX</th>\n",
       "      <th>AGE</th>\n",
       "      <th></th>\n",
       "      <th></th>\n",
       "      <th></th>\n",
       "    </tr>\n",
       "  </thead>\n",
       "  <tbody>\n",
       "    <tr>\n",
       "      <th>bra</th>\n",
       "      <th>android</th>\n",
       "      <th>male</th>\n",
       "      <th>46</th>\n",
       "      <td>1302.0</td>\n",
       "      <td>1302.0</td>\n",
       "      <td>59.0</td>\n",
       "    </tr>\n",
       "    <tr>\n",
       "      <th>usa</th>\n",
       "      <th>android</th>\n",
       "      <th>male</th>\n",
       "      <th>36</th>\n",
       "      <td>1075.0</td>\n",
       "      <td>1075.0</td>\n",
       "      <td>59.0</td>\n",
       "    </tr>\n",
       "    <tr>\n",
       "      <th>fra</th>\n",
       "      <th>android</th>\n",
       "      <th>female</th>\n",
       "      <th>24</th>\n",
       "      <td>507.0</td>\n",
       "      <td>507.0</td>\n",
       "      <td>59.0</td>\n",
       "    </tr>\n",
       "    <tr>\n",
       "      <th>usa</th>\n",
       "      <th>ios</th>\n",
       "      <th>male</th>\n",
       "      <th>32</th>\n",
       "      <td>191.5</td>\n",
       "      <td>191.5</td>\n",
       "      <td>54.0</td>\n",
       "    </tr>\n",
       "    <tr>\n",
       "      <th>deu</th>\n",
       "      <th>android</th>\n",
       "      <th>female</th>\n",
       "      <th>36</th>\n",
       "      <td>1039.0</td>\n",
       "      <td>1039.0</td>\n",
       "      <td>49.0</td>\n",
       "    </tr>\n",
       "  </tbody>\n",
       "</table>\n",
       "</div>"
      ],
      "text/plain": [
       "                            level_0   index  PRICE\n",
       "COUNTRY SOURCE  SEX    AGE                        \n",
       "bra     android male   46    1302.0  1302.0   59.0\n",
       "usa     android male   36    1075.0  1075.0   59.0\n",
       "fra     android female 24     507.0   507.0   59.0\n",
       "usa     ios     male   32     191.5   191.5   54.0\n",
       "deu     android female 36    1039.0  1039.0   49.0"
      ]
     },
     "execution_count": 8,
     "metadata": {},
     "output_type": "execute_result"
    }
   ],
   "source": [
    "# GOREV 3\n",
    "# Onceki çıktıyı PRICE’a göre sıralayınız.\n",
    "agg_df = df.groupby([\"COUNTRY\",\"SOURCE\",\"SEX\",\"AGE\"]).mean(\"PRICE\").sort_values(\"PRICE\",ascending=False)\n",
    "agg_df.head()\n"
   ]
  },
  {
   "cell_type": "code",
   "execution_count": 5,
   "id": "e617fb9c-8974-448b-9501-8f9636c9e676",
   "metadata": {},
   "outputs": [
    {
     "data": {
      "text/html": [
       "<div>\n",
       "<style scoped>\n",
       "    .dataframe tbody tr th:only-of-type {\n",
       "        vertical-align: middle;\n",
       "    }\n",
       "\n",
       "    .dataframe tbody tr th {\n",
       "        vertical-align: top;\n",
       "    }\n",
       "\n",
       "    .dataframe thead th {\n",
       "        text-align: right;\n",
       "    }\n",
       "</style>\n",
       "<table border=\"1\" class=\"dataframe\">\n",
       "  <thead>\n",
       "    <tr style=\"text-align: right;\">\n",
       "      <th></th>\n",
       "      <th>level_0</th>\n",
       "      <th>index</th>\n",
       "      <th>PRICE</th>\n",
       "      <th>SOURCE</th>\n",
       "      <th>SEX</th>\n",
       "      <th>COUNTRY</th>\n",
       "      <th>AGE</th>\n",
       "    </tr>\n",
       "  </thead>\n",
       "  <tbody>\n",
       "    <tr>\n",
       "      <th>0</th>\n",
       "      <td>0</td>\n",
       "      <td>0</td>\n",
       "      <td>39</td>\n",
       "      <td>android</td>\n",
       "      <td>male</td>\n",
       "      <td>bra</td>\n",
       "      <td>17</td>\n",
       "    </tr>\n",
       "    <tr>\n",
       "      <th>1</th>\n",
       "      <td>1</td>\n",
       "      <td>1</td>\n",
       "      <td>39</td>\n",
       "      <td>android</td>\n",
       "      <td>male</td>\n",
       "      <td>bra</td>\n",
       "      <td>17</td>\n",
       "    </tr>\n",
       "    <tr>\n",
       "      <th>2</th>\n",
       "      <td>2</td>\n",
       "      <td>2</td>\n",
       "      <td>49</td>\n",
       "      <td>android</td>\n",
       "      <td>male</td>\n",
       "      <td>bra</td>\n",
       "      <td>17</td>\n",
       "    </tr>\n",
       "    <tr>\n",
       "      <th>3</th>\n",
       "      <td>3</td>\n",
       "      <td>3</td>\n",
       "      <td>29</td>\n",
       "      <td>android</td>\n",
       "      <td>male</td>\n",
       "      <td>tur</td>\n",
       "      <td>17</td>\n",
       "    </tr>\n",
       "    <tr>\n",
       "      <th>4</th>\n",
       "      <td>4</td>\n",
       "      <td>4</td>\n",
       "      <td>49</td>\n",
       "      <td>android</td>\n",
       "      <td>male</td>\n",
       "      <td>tur</td>\n",
       "      <td>17</td>\n",
       "    </tr>\n",
       "  </tbody>\n",
       "</table>\n",
       "</div>"
      ],
      "text/plain": [
       "   level_0  index  PRICE   SOURCE   SEX COUNTRY  AGE\n",
       "0        0      0     39  android  male     bra   17\n",
       "1        1      1     39  android  male     bra   17\n",
       "2        2      2     49  android  male     bra   17\n",
       "3        3      3     29  android  male     tur   17\n",
       "4        4      4     49  android  male     tur   17"
      ]
     },
     "execution_count": 5,
     "metadata": {},
     "output_type": "execute_result"
    }
   ],
   "source": [
    "# GOREV 4\n",
    "# Indekste yer alan isimleri değişken ismine çeviriniz.\n",
    "# Üçüncü sorunun çıktısında yer alan PRICE dışındaki tüm değişkenler index isimleridir. Bu isimleri değişken isimlerine çeviriniz.\n",
    "df = df.reset_index()\n",
    "df.head()\n",
    "\n"
   ]
  },
  {
   "cell_type": "code",
   "execution_count": 48,
   "id": "8338f575-2988-40c0-83be-e404d0835412",
   "metadata": {},
   "outputs": [
    {
     "name": "stdout",
     "output_type": "stream",
     "text": [
      "      index  PRICE   SOURCE     SEX COUNTRY  AGE AGE_CAT\n",
      "4995   4995     29  android  female     bra   31   31_40\n",
      "4996   4996     29  android  female     bra   31   31_40\n",
      "4997   4997     29  android  female     bra   31   31_40\n",
      "4998   4998     39  android  female     bra   31   31_40\n",
      "4999   4999     29  android  female     bra   31   31_40\n"
     ]
    },
    {
     "data": {
      "text/html": [
       "<div>\n",
       "<style scoped>\n",
       "    .dataframe tbody tr th:only-of-type {\n",
       "        vertical-align: middle;\n",
       "    }\n",
       "\n",
       "    .dataframe tbody tr th {\n",
       "        vertical-align: top;\n",
       "    }\n",
       "\n",
       "    .dataframe thead th {\n",
       "        text-align: right;\n",
       "    }\n",
       "</style>\n",
       "<table border=\"1\" class=\"dataframe\">\n",
       "  <thead>\n",
       "    <tr style=\"text-align: right;\">\n",
       "      <th></th>\n",
       "      <th>customers_level_based</th>\n",
       "      <th>PRICE</th>\n",
       "    </tr>\n",
       "  </thead>\n",
       "  <tbody>\n",
       "    <tr>\n",
       "      <th>0</th>\n",
       "      <td>BRA_ANDROID_FEMALE_0_18</td>\n",
       "      <td>35.439394</td>\n",
       "    </tr>\n",
       "    <tr>\n",
       "      <th>1</th>\n",
       "      <td>BRA_ANDROID_FEMALE_19_23</td>\n",
       "      <td>34.114943</td>\n",
       "    </tr>\n",
       "    <tr>\n",
       "      <th>2</th>\n",
       "      <td>BRA_ANDROID_FEMALE_24_30</td>\n",
       "      <td>34.540541</td>\n",
       "    </tr>\n",
       "    <tr>\n",
       "      <th>3</th>\n",
       "      <td>BRA_ANDROID_FEMALE_31_40</td>\n",
       "      <td>34.696203</td>\n",
       "    </tr>\n",
       "    <tr>\n",
       "      <th>4</th>\n",
       "      <td>BRA_ANDROID_FEMALE_41_70</td>\n",
       "      <td>35.086957</td>\n",
       "    </tr>\n",
       "  </tbody>\n",
       "</table>\n",
       "</div>"
      ],
      "text/plain": [
       "      customers_level_based      PRICE\n",
       "0   BRA_ANDROID_FEMALE_0_18  35.439394\n",
       "1  BRA_ANDROID_FEMALE_19_23  34.114943\n",
       "2  BRA_ANDROID_FEMALE_24_30  34.540541\n",
       "3  BRA_ANDROID_FEMALE_31_40  34.696203\n",
       "4  BRA_ANDROID_FEMALE_41_70  35.086957"
      ]
     },
     "execution_count": 48,
     "metadata": {},
     "output_type": "execute_result"
    }
   ],
   "source": [
    "import pandas as pd\n",
    "\n",
    "df = pd.read_csv(\"persona.csv\")\n",
    "agg_df = df.groupby([\"COUNTRY\",\"SOURCE\",\"SEX\",\"AGE\"]).mean(\"PRICE\").sort_values(\"PRICE\",ascending=False)\n",
    "\n",
    "# GOREV 5 \n",
    "# Age sayısal değişkenini kategorik değişkene çeviriniz ve agg_df’e ekleyiniz.\n",
    "# Aralıkları ikna edici şekilde oluşturunuz.\n",
    "# Örneğin: ‘0_18', ‘19_23', '24_30', '31_40', '41_70'\n",
    "#  \n",
    "agg_df = df.reset_index()\n",
    "agg_df[\"AGE_CAT\"] =pd.cut(agg_df[\"AGE\"],[0,18,23,30,40,70],labels=[\"0_18\",\"19_23\",\"24_30\",\"31_40\",\"41_70\"])\n",
    "print(agg_df.tail())\n",
    "\n",
    "# GOREV 5\n",
    "# Yeni seviye tabanlı müşterileri (persona) tanımlayınız ve veri setine değişken olarak ekleyiniz.\n",
    "# Yeni eklenecek değişkenin adı: customers_level_based\n",
    "# Önceki soruda elde edeceğiniz çıktıdaki gözlemleri bir araya getirerek customers_level_based değişkenini oluşturmanız gerekmektedir.\n",
    "agg_df[\"customers_level_based\"] = [col[4].upper()+\"_\"+ col[2].upper()+\"_\"+col[3].upper()+\"_\"+col[6].upper() for col in agg_df.values]\n",
    "agg_df.head()\n",
    "\n",
    "# Dikkat! List comprehension ile customers_level_based değerleri oluşturulduktan sonra bu değerlerin tekilleştirilmesi gerekmektedir.\n",
    "# Örneğin birden fazla şu ifadeden olabilir: USA_ANDROID_MALE_0_18. Bunları groupby'a alıp price ortalamalarını almak gerekmektedir.\n",
    "agg_df = agg_df.groupby([\"customers_level_based\"]).agg({\"PRICE\": \"mean\"})\n",
    "agg_df.reset_index(inplace=True)\n",
    "agg_df.sort_values(\"customers_level_based\",ascending=False)\n",
    "\n",
    "agg_df.head()\n",
    "\n"
   ]
  },
  {
   "cell_type": "code",
   "execution_count": 49,
   "id": "b6392eb6-4b20-4365-a13f-d888f2f9e08b",
   "metadata": {},
   "outputs": [
    {
     "data": {
      "text/html": [
       "<div>\n",
       "<style scoped>\n",
       "    .dataframe tbody tr th:only-of-type {\n",
       "        vertical-align: middle;\n",
       "    }\n",
       "\n",
       "    .dataframe tbody tr th {\n",
       "        vertical-align: top;\n",
       "    }\n",
       "\n",
       "    .dataframe thead tr th {\n",
       "        text-align: left;\n",
       "    }\n",
       "\n",
       "    .dataframe thead tr:last-of-type th {\n",
       "        text-align: right;\n",
       "    }\n",
       "</style>\n",
       "<table border=\"1\" class=\"dataframe\">\n",
       "  <thead>\n",
       "    <tr>\n",
       "      <th></th>\n",
       "      <th colspan=\"3\" halign=\"left\">PRICE</th>\n",
       "    </tr>\n",
       "    <tr>\n",
       "      <th></th>\n",
       "      <th>mean</th>\n",
       "      <th>max</th>\n",
       "      <th>sum</th>\n",
       "    </tr>\n",
       "    <tr>\n",
       "      <th>SEGMENT</th>\n",
       "      <th></th>\n",
       "      <th></th>\n",
       "      <th></th>\n",
       "    </tr>\n",
       "  </thead>\n",
       "  <tbody>\n",
       "    <tr>\n",
       "      <th>D</th>\n",
       "      <td>30.113161</td>\n",
       "      <td>32.658537</td>\n",
       "      <td>843.168512</td>\n",
       "    </tr>\n",
       "    <tr>\n",
       "      <th>C</th>\n",
       "      <td>33.512842</td>\n",
       "      <td>34.000000</td>\n",
       "      <td>971.872429</td>\n",
       "    </tr>\n",
       "    <tr>\n",
       "      <th>B</th>\n",
       "      <td>34.681428</td>\n",
       "      <td>35.439394</td>\n",
       "      <td>867.035711</td>\n",
       "    </tr>\n",
       "    <tr>\n",
       "      <th>A</th>\n",
       "      <td>37.544294</td>\n",
       "      <td>45.000000</td>\n",
       "      <td>1013.695935</td>\n",
       "    </tr>\n",
       "  </tbody>\n",
       "</table>\n",
       "</div>"
      ],
      "text/plain": [
       "             PRICE                        \n",
       "              mean        max          sum\n",
       "SEGMENT                                   \n",
       "D        30.113161  32.658537   843.168512\n",
       "C        33.512842  34.000000   971.872429\n",
       "B        34.681428  35.439394   867.035711\n",
       "A        37.544294  45.000000  1013.695935"
      ]
     },
     "execution_count": 49,
     "metadata": {},
     "output_type": "execute_result"
    }
   ],
   "source": [
    "# GOREV 7\n",
    "# Yeni müşterileri (personaları) segmentlere ayırınız.\n",
    "# Yeni müşterileri (Örnek: USA_ANDROID_MALE_0_18) PRICE’a göre 4 segmente ayırınız.\n",
    "# Segmentleri SEGMENT isimlendirmesi ile değişken olarak agg_df’e ekleyiniz.\n",
    "# Segmentleri betimleyiniz (Segmentlere göre group by yapıp price mean, max, sum’larını alınız).\n",
    "agg_df[\"SEGMENT\"] = pd.qcut(agg_df[\"PRICE\"],4,['D','C','B','A'])\n",
    "agg_df = agg_df.groupby(\"SEGMENT\").agg({\"PRICE\":[\"mean\",\"max\",\"sum\"]})\n",
    "\n",
    "agg_df.head()\n",
    "\n",
    "\n"
   ]
  },
  {
   "cell_type": "code",
   "execution_count": 83,
   "id": "4a25ae25-a80f-492d-b8e7-e6ac4b145831",
   "metadata": {},
   "outputs": [
    {
     "name": "stdout",
     "output_type": "stream",
     "text": [
      "yeni kullanıcı ['A']\n",
      "Categories (4, object): ['D' < 'C' < 'B' < 'A']\n",
      "\n",
      "beklenilen ortalame gelir :  PRICE    41.727273\n",
      "dtype: float64\n",
      "yeni kullanıcı ['C']\n",
      "Categories (4, object): ['D' < 'C' < 'B' < 'A']\n",
      "\n",
      "beklenilen ortalame gelir :  PRICE    32.75\n",
      "dtype: float64\n"
     ]
    }
   ],
   "source": [
    "import pandas as pd\n",
    "\n",
    "df = pd.read_csv(\"persona.csv\")\n",
    "agg_df = df.groupby([\"COUNTRY\",\"SOURCE\",\"SEX\",\"AGE\"]).mean(\"PRICE\").sort_values(\"PRICE\",ascending=False)\n",
    "\n",
    "agg_df = df.reset_index()\n",
    "agg_df[\"AGE_CAT\"] =pd.cut(agg_df[\"AGE\"],[0,18,23,30,40,70],labels=[\"0_18\",\"19_23\",\"24_30\",\"31_40\",\"41_70\"])\n",
    "\n",
    "agg_df[\"customers_level_based\"] = [col[4].upper()+\"_\"+ col[2].upper()+\"_\"+col[3].upper()+\"_\"+col[6].upper() for col in agg_df.values]\n",
    "\n",
    "agg_df = agg_df.groupby([\"customers_level_based\"]).agg({\"PRICE\": \"mean\"})\n",
    "agg_df.reset_index(inplace=True)\n",
    "agg_df.sort_values(\"customers_level_based\",ascending=False)\n",
    "\n",
    "agg_df[\"SEGMENT\"] = pd.qcut(agg_df[\"PRICE\"],4,['D','C','B','A'])\n",
    "\n",
    "\n",
    "# GOREV 8\n",
    "# Yeni gelen müşterileri sınıflandırıp, ne kadar gelir getirebileceklerini tahmin ediniz.\n",
    "# 33 yaşında ANDROID kullanan bir Türk kadını hangi segmente aittir ve ortalama ne kadar gelir kazandırması beklenir?\n",
    "# 35 yaşında IOS kullanan bir Fransız kadını hangi segmente aittir ve ortalama ne kadar gelir kazandırması beklenir?\n",
    "\n",
    "new_user=\"TUR_ANDROID_FEMALE_31_40\"\n",
    "new_user2= \"FRA_IOS_FEMALE_31_40\"\n",
    "\n",
    "def new_user_guess(dataframe,new_user):\n",
    "    print(\"yeni kullanıcı\",dataframe[dataframe[\"customers_level_based\"] == new_user][\"SEGMENT\"].unique())\n",
    "    print(\"\\nbeklenilen ortalame gelir : \",dataframe[dataframe[\"customers_level_based\"] == new_user].agg({\"PRICE\":\"mean\"}))\n",
    "\n",
    "new_user_guess(agg_df,new_user)\n",
    "new_user_guess(agg_df,new_user2)\n",
    "\n"
   ]
  },
  {
   "cell_type": "code",
   "execution_count": null,
   "id": "06cafddc-0725-4e69-9aae-722522dad0a4",
   "metadata": {},
   "outputs": [],
   "source": []
  }
 ],
 "metadata": {
  "kernelspec": {
   "display_name": "Python 3 (ipykernel)",
   "language": "python",
   "name": "python3"
  },
  "language_info": {
   "codemirror_mode": {
    "name": "ipython",
    "version": 3
   },
   "file_extension": ".py",
   "mimetype": "text/x-python",
   "name": "python",
   "nbconvert_exporter": "python",
   "pygments_lexer": "ipython3",
   "version": "3.9.12"
  },
  "toc-autonumbering": false,
  "toc-showcode": false,
  "toc-showmarkdowntxt": true
 },
 "nbformat": 4,
 "nbformat_minor": 5
}
